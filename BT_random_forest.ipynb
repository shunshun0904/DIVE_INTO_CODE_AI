{
 "cells": [
  {
   "cell_type": "markdown",
   "metadata": {},
   "source": [
    "## 【AIコース】大課題 タイタニック生存予測 ランダムフォレスト"
   ]
  },
  {
   "cell_type": "markdown",
   "metadata": {},
   "source": [
    "### ●データ取得"
   ]
  },
  {
   "cell_type": "code",
   "execution_count": 103,
   "metadata": {
    "collapsed": false
   },
   "outputs": [],
   "source": [
    "import pandas as pd\n",
    "import numpy as np\n",
    "\n",
    "df_Ti = pd.read_csv('train.csv')"
   ]
  },
  {
   "cell_type": "markdown",
   "metadata": {},
   "source": [
    "### ●データ確認"
   ]
  },
  {
   "cell_type": "code",
   "execution_count": 104,
   "metadata": {
    "collapsed": false,
    "scrolled": true
   },
   "outputs": [
    {
     "data": {
      "text/html": [
       "<div>\n",
       "<table border=\"1\" class=\"dataframe\">\n",
       "  <thead>\n",
       "    <tr style=\"text-align: right;\">\n",
       "      <th></th>\n",
       "      <th>PassengerId</th>\n",
       "      <th>Survived</th>\n",
       "      <th>Pclass</th>\n",
       "      <th>Name</th>\n",
       "      <th>Sex</th>\n",
       "      <th>Age</th>\n",
       "      <th>SibSp</th>\n",
       "      <th>Parch</th>\n",
       "      <th>Ticket</th>\n",
       "      <th>Fare</th>\n",
       "      <th>Cabin</th>\n",
       "      <th>Embarked</th>\n",
       "    </tr>\n",
       "  </thead>\n",
       "  <tbody>\n",
       "    <tr>\n",
       "      <th>0</th>\n",
       "      <td>1</td>\n",
       "      <td>0</td>\n",
       "      <td>3</td>\n",
       "      <td>Braund, Mr. Owen Harris</td>\n",
       "      <td>male</td>\n",
       "      <td>22.0</td>\n",
       "      <td>1</td>\n",
       "      <td>0</td>\n",
       "      <td>A/5 21171</td>\n",
       "      <td>7.2500</td>\n",
       "      <td>NaN</td>\n",
       "      <td>S</td>\n",
       "    </tr>\n",
       "    <tr>\n",
       "      <th>1</th>\n",
       "      <td>2</td>\n",
       "      <td>1</td>\n",
       "      <td>1</td>\n",
       "      <td>Cumings, Mrs. John Bradley (Florence Briggs Th...</td>\n",
       "      <td>female</td>\n",
       "      <td>38.0</td>\n",
       "      <td>1</td>\n",
       "      <td>0</td>\n",
       "      <td>PC 17599</td>\n",
       "      <td>71.2833</td>\n",
       "      <td>C85</td>\n",
       "      <td>C</td>\n",
       "    </tr>\n",
       "    <tr>\n",
       "      <th>2</th>\n",
       "      <td>3</td>\n",
       "      <td>1</td>\n",
       "      <td>3</td>\n",
       "      <td>Heikkinen, Miss. Laina</td>\n",
       "      <td>female</td>\n",
       "      <td>26.0</td>\n",
       "      <td>0</td>\n",
       "      <td>0</td>\n",
       "      <td>STON/O2. 3101282</td>\n",
       "      <td>7.9250</td>\n",
       "      <td>NaN</td>\n",
       "      <td>S</td>\n",
       "    </tr>\n",
       "    <tr>\n",
       "      <th>3</th>\n",
       "      <td>4</td>\n",
       "      <td>1</td>\n",
       "      <td>1</td>\n",
       "      <td>Futrelle, Mrs. Jacques Heath (Lily May Peel)</td>\n",
       "      <td>female</td>\n",
       "      <td>35.0</td>\n",
       "      <td>1</td>\n",
       "      <td>0</td>\n",
       "      <td>113803</td>\n",
       "      <td>53.1000</td>\n",
       "      <td>C123</td>\n",
       "      <td>S</td>\n",
       "    </tr>\n",
       "    <tr>\n",
       "      <th>4</th>\n",
       "      <td>5</td>\n",
       "      <td>0</td>\n",
       "      <td>3</td>\n",
       "      <td>Allen, Mr. William Henry</td>\n",
       "      <td>male</td>\n",
       "      <td>35.0</td>\n",
       "      <td>0</td>\n",
       "      <td>0</td>\n",
       "      <td>373450</td>\n",
       "      <td>8.0500</td>\n",
       "      <td>NaN</td>\n",
       "      <td>S</td>\n",
       "    </tr>\n",
       "  </tbody>\n",
       "</table>\n",
       "</div>"
      ],
      "text/plain": [
       "   PassengerId  Survived  Pclass  \\\n",
       "0            1         0       3   \n",
       "1            2         1       1   \n",
       "2            3         1       3   \n",
       "3            4         1       1   \n",
       "4            5         0       3   \n",
       "\n",
       "                                                Name     Sex   Age  SibSp  \\\n",
       "0                            Braund, Mr. Owen Harris    male  22.0      1   \n",
       "1  Cumings, Mrs. John Bradley (Florence Briggs Th...  female  38.0      1   \n",
       "2                             Heikkinen, Miss. Laina  female  26.0      0   \n",
       "3       Futrelle, Mrs. Jacques Heath (Lily May Peel)  female  35.0      1   \n",
       "4                           Allen, Mr. William Henry    male  35.0      0   \n",
       "\n",
       "   Parch            Ticket     Fare Cabin Embarked  \n",
       "0      0         A/5 21171   7.2500   NaN        S  \n",
       "1      0          PC 17599  71.2833   C85        C  \n",
       "2      0  STON/O2. 3101282   7.9250   NaN        S  \n",
       "3      0            113803  53.1000  C123        S  \n",
       "4      0            373450   8.0500   NaN        S  "
      ]
     },
     "execution_count": 104,
     "metadata": {},
     "output_type": "execute_result"
    }
   ],
   "source": [
    "df_Ti.head()"
   ]
  },
  {
   "cell_type": "code",
   "execution_count": 105,
   "metadata": {
    "collapsed": false
   },
   "outputs": [
    {
     "data": {
      "text/html": [
       "<div>\n",
       "<table border=\"1\" class=\"dataframe\">\n",
       "  <thead>\n",
       "    <tr style=\"text-align: right;\">\n",
       "      <th></th>\n",
       "      <th>PassengerId</th>\n",
       "      <th>Survived</th>\n",
       "      <th>Pclass</th>\n",
       "      <th>Age</th>\n",
       "      <th>SibSp</th>\n",
       "      <th>Parch</th>\n",
       "      <th>Fare</th>\n",
       "    </tr>\n",
       "  </thead>\n",
       "  <tbody>\n",
       "    <tr>\n",
       "      <th>count</th>\n",
       "      <td>891.000000</td>\n",
       "      <td>891.000000</td>\n",
       "      <td>891.000000</td>\n",
       "      <td>714.000000</td>\n",
       "      <td>891.000000</td>\n",
       "      <td>891.000000</td>\n",
       "      <td>891.000000</td>\n",
       "    </tr>\n",
       "    <tr>\n",
       "      <th>mean</th>\n",
       "      <td>446.000000</td>\n",
       "      <td>0.383838</td>\n",
       "      <td>2.308642</td>\n",
       "      <td>29.699118</td>\n",
       "      <td>0.523008</td>\n",
       "      <td>0.381594</td>\n",
       "      <td>32.204208</td>\n",
       "    </tr>\n",
       "    <tr>\n",
       "      <th>std</th>\n",
       "      <td>257.353842</td>\n",
       "      <td>0.486592</td>\n",
       "      <td>0.836071</td>\n",
       "      <td>14.526497</td>\n",
       "      <td>1.102743</td>\n",
       "      <td>0.806057</td>\n",
       "      <td>49.693429</td>\n",
       "    </tr>\n",
       "    <tr>\n",
       "      <th>min</th>\n",
       "      <td>1.000000</td>\n",
       "      <td>0.000000</td>\n",
       "      <td>1.000000</td>\n",
       "      <td>0.420000</td>\n",
       "      <td>0.000000</td>\n",
       "      <td>0.000000</td>\n",
       "      <td>0.000000</td>\n",
       "    </tr>\n",
       "    <tr>\n",
       "      <th>25%</th>\n",
       "      <td>223.500000</td>\n",
       "      <td>0.000000</td>\n",
       "      <td>2.000000</td>\n",
       "      <td>20.125000</td>\n",
       "      <td>0.000000</td>\n",
       "      <td>0.000000</td>\n",
       "      <td>7.910400</td>\n",
       "    </tr>\n",
       "    <tr>\n",
       "      <th>50%</th>\n",
       "      <td>446.000000</td>\n",
       "      <td>0.000000</td>\n",
       "      <td>3.000000</td>\n",
       "      <td>28.000000</td>\n",
       "      <td>0.000000</td>\n",
       "      <td>0.000000</td>\n",
       "      <td>14.454200</td>\n",
       "    </tr>\n",
       "    <tr>\n",
       "      <th>75%</th>\n",
       "      <td>668.500000</td>\n",
       "      <td>1.000000</td>\n",
       "      <td>3.000000</td>\n",
       "      <td>38.000000</td>\n",
       "      <td>1.000000</td>\n",
       "      <td>0.000000</td>\n",
       "      <td>31.000000</td>\n",
       "    </tr>\n",
       "    <tr>\n",
       "      <th>max</th>\n",
       "      <td>891.000000</td>\n",
       "      <td>1.000000</td>\n",
       "      <td>3.000000</td>\n",
       "      <td>80.000000</td>\n",
       "      <td>8.000000</td>\n",
       "      <td>6.000000</td>\n",
       "      <td>512.329200</td>\n",
       "    </tr>\n",
       "  </tbody>\n",
       "</table>\n",
       "</div>"
      ],
      "text/plain": [
       "       PassengerId    Survived      Pclass         Age       SibSp  \\\n",
       "count   891.000000  891.000000  891.000000  714.000000  891.000000   \n",
       "mean    446.000000    0.383838    2.308642   29.699118    0.523008   \n",
       "std     257.353842    0.486592    0.836071   14.526497    1.102743   \n",
       "min       1.000000    0.000000    1.000000    0.420000    0.000000   \n",
       "25%     223.500000    0.000000    2.000000   20.125000    0.000000   \n",
       "50%     446.000000    0.000000    3.000000   28.000000    0.000000   \n",
       "75%     668.500000    1.000000    3.000000   38.000000    1.000000   \n",
       "max     891.000000    1.000000    3.000000   80.000000    8.000000   \n",
       "\n",
       "            Parch        Fare  \n",
       "count  891.000000  891.000000  \n",
       "mean     0.381594   32.204208  \n",
       "std      0.806057   49.693429  \n",
       "min      0.000000    0.000000  \n",
       "25%      0.000000    7.910400  \n",
       "50%      0.000000   14.454200  \n",
       "75%      0.000000   31.000000  \n",
       "max      6.000000  512.329200  "
      ]
     },
     "execution_count": 105,
     "metadata": {},
     "output_type": "execute_result"
    }
   ],
   "source": [
    "df_Ti.describe()"
   ]
  },
  {
   "cell_type": "markdown",
   "metadata": {},
   "source": [
    "### ●sample"
   ]
  },
  {
   "cell_type": "code",
   "execution_count": 106,
   "metadata": {
    "collapsed": false
   },
   "outputs": [
    {
     "data": {
      "text/html": [
       "<div>\n",
       "<table border=\"1\" class=\"dataframe\">\n",
       "  <thead>\n",
       "    <tr style=\"text-align: right;\">\n",
       "      <th></th>\n",
       "      <th>PassengerId</th>\n",
       "      <th>Survived</th>\n",
       "      <th>Pclass</th>\n",
       "      <th>Name</th>\n",
       "      <th>Sex</th>\n",
       "      <th>Age</th>\n",
       "      <th>SibSp</th>\n",
       "      <th>Parch</th>\n",
       "      <th>Ticket</th>\n",
       "      <th>Fare</th>\n",
       "      <th>Cabin</th>\n",
       "      <th>Embarked</th>\n",
       "    </tr>\n",
       "  </thead>\n",
       "  <tbody>\n",
       "    <tr>\n",
       "      <th>65</th>\n",
       "      <td>66</td>\n",
       "      <td>1</td>\n",
       "      <td>3</td>\n",
       "      <td>Moubarek, Master. Gerios</td>\n",
       "      <td>male</td>\n",
       "      <td>NaN</td>\n",
       "      <td>1</td>\n",
       "      <td>1</td>\n",
       "      <td>2661</td>\n",
       "      <td>15.2458</td>\n",
       "      <td>NaN</td>\n",
       "      <td>C</td>\n",
       "    </tr>\n",
       "  </tbody>\n",
       "</table>\n",
       "</div>"
      ],
      "text/plain": [
       "    PassengerId  Survived  Pclass                      Name   Sex  Age  SibSp  \\\n",
       "65           66         1       3  Moubarek, Master. Gerios  male  NaN      1   \n",
       "\n",
       "    Parch Ticket     Fare Cabin Embarked  \n",
       "65      1   2661  15.2458   NaN        C  "
      ]
     },
     "execution_count": 106,
     "metadata": {},
     "output_type": "execute_result"
    }
   ],
   "source": [
    "pd.DataFrame.sample(df_Ti)"
   ]
  },
  {
   "cell_type": "code",
   "execution_count": 107,
   "metadata": {
    "collapsed": false
   },
   "outputs": [
    {
     "data": {
      "text/html": [
       "<div>\n",
       "<table border=\"1\" class=\"dataframe\">\n",
       "  <thead>\n",
       "    <tr style=\"text-align: right;\">\n",
       "      <th></th>\n",
       "      <th>PassengerId</th>\n",
       "      <th>Survived</th>\n",
       "      <th>Pclass</th>\n",
       "      <th>Name</th>\n",
       "      <th>Sex</th>\n",
       "      <th>Age</th>\n",
       "      <th>SibSp</th>\n",
       "      <th>Parch</th>\n",
       "      <th>Ticket</th>\n",
       "      <th>Fare</th>\n",
       "      <th>Cabin</th>\n",
       "      <th>Embarked</th>\n",
       "    </tr>\n",
       "  </thead>\n",
       "  <tbody>\n",
       "    <tr>\n",
       "      <th>329</th>\n",
       "      <td>330</td>\n",
       "      <td>1</td>\n",
       "      <td>1</td>\n",
       "      <td>Hippach, Miss. Jean Gertrude</td>\n",
       "      <td>female</td>\n",
       "      <td>16.0</td>\n",
       "      <td>0</td>\n",
       "      <td>1</td>\n",
       "      <td>111361</td>\n",
       "      <td>57.9792</td>\n",
       "      <td>B18</td>\n",
       "      <td>C</td>\n",
       "    </tr>\n",
       "  </tbody>\n",
       "</table>\n",
       "</div>"
      ],
      "text/plain": [
       "     PassengerId  Survived  Pclass                          Name     Sex  \\\n",
       "329          330         1       1  Hippach, Miss. Jean Gertrude  female   \n",
       "\n",
       "      Age  SibSp  Parch  Ticket     Fare Cabin Embarked  \n",
       "329  16.0      0      1  111361  57.9792   B18        C  "
      ]
     },
     "execution_count": 107,
     "metadata": {},
     "output_type": "execute_result"
    }
   ],
   "source": [
    "pd.DataFrame.sample(df_Ti)"
   ]
  },
  {
   "cell_type": "code",
   "execution_count": 108,
   "metadata": {
    "collapsed": false
   },
   "outputs": [
    {
     "data": {
      "text/html": [
       "<div>\n",
       "<table border=\"1\" class=\"dataframe\">\n",
       "  <thead>\n",
       "    <tr style=\"text-align: right;\">\n",
       "      <th></th>\n",
       "      <th>PassengerId</th>\n",
       "      <th>Survived</th>\n",
       "      <th>Pclass</th>\n",
       "      <th>Name</th>\n",
       "      <th>Sex</th>\n",
       "      <th>Age</th>\n",
       "      <th>SibSp</th>\n",
       "      <th>Parch</th>\n",
       "      <th>Ticket</th>\n",
       "      <th>Fare</th>\n",
       "      <th>Cabin</th>\n",
       "      <th>Embarked</th>\n",
       "    </tr>\n",
       "  </thead>\n",
       "  <tbody>\n",
       "    <tr>\n",
       "      <th>707</th>\n",
       "      <td>708</td>\n",
       "      <td>1</td>\n",
       "      <td>1</td>\n",
       "      <td>Calderhead, Mr. Edward Pennington</td>\n",
       "      <td>male</td>\n",
       "      <td>42.0</td>\n",
       "      <td>0</td>\n",
       "      <td>0</td>\n",
       "      <td>PC 17476</td>\n",
       "      <td>26.2875</td>\n",
       "      <td>E24</td>\n",
       "      <td>S</td>\n",
       "    </tr>\n",
       "  </tbody>\n",
       "</table>\n",
       "</div>"
      ],
      "text/plain": [
       "     PassengerId  Survived  Pclass                               Name   Sex  \\\n",
       "707          708         1       1  Calderhead, Mr. Edward Pennington  male   \n",
       "\n",
       "      Age  SibSp  Parch    Ticket     Fare Cabin Embarked  \n",
       "707  42.0      0      0  PC 17476  26.2875   E24        S  "
      ]
     },
     "execution_count": 108,
     "metadata": {},
     "output_type": "execute_result"
    }
   ],
   "source": [
    "pd.DataFrame.sample(df_Ti)"
   ]
  },
  {
   "cell_type": "markdown",
   "metadata": {},
   "source": [
    "### ●前処理について記述せよ"
   ]
  },
  {
   "cell_type": "markdown",
   "metadata": {},
   "source": [
    "A.機械学習をするに於いて、綺麗に加工されモデリングや分析のアルゴリズムを施せるデータがすぐに手に入る事はほぼあり得ない。\n",
    "　コンピュータに機械学習をさせるデータとして利用するためにはそのデータを加工し分析可能なデータの型に変換する必要がある。\n",
    "  その作業が前処理である。\n",
    "　前処理の具体例として、生データに対して数値化や変数処理、標準化を行う。\n",
    "  \n",
    "  ・数値化\n",
    "    機械学習の観点で言えば、コンピュータは自然言語で書かれたデータを処理する事が出来ない。\n",
    "    なのでその自然言語の特徴を数値で表した特徴量に変換しなければいけない。これを数値化という。\n",
    "    これによりコンピュータがその特徴量を扱えるようになる。\n",
    "  \n",
    "  ・変数処理\n",
    "  　機械学習に於いて情報量の少ない説明変数を使用する事や、そもそも扱う説明変数の数が多い事自体が機械学習モデルの予測精度に悪影響を与える。\n",
    "    それにモデルの予測結果が出た後にもその予測結果をどう解釈するかも複雑化する。\n",
    "    なのでそれを解消するために情報量の少ない変数\n",
    "    （例えば1000個中999個が同じ値を持ち１個だけが異なる値を持つ場合、その変数の情報量は少ない。）を削除したりする事を変数処理という。\n",
    "　\n",
    " ・標準化\n",
    "    データ値の範囲が大きく異なる特徴量が特徴ベクトルに含まれるとパラメータの更新がうまくいかなかったり\n",
    "    値の大きな特徴量だけが結果に寄与するような予測器ができてしまう。なので適切な範囲に各特徴量のデータ値を調整する。\n",
    "    こうする事でより精度の高い機械学習モデルを得ることが出来る。\n",
    "    その方法を「スケーリング手法」というが、そのうちの一つの手法で実用性が高いものを標準化という。"
   ]
  },
  {
   "cell_type": "markdown",
   "metadata": {},
   "source": [
    "###  ●2/前処理について記述せよ"
   ]
  },
  {
   "cell_type": "markdown",
   "metadata": {},
   "source": [
    "A.先ずはデータフレームを確認して自然言語で特徴が書かれている変数はないかチェックする。\n",
    "　各変数の情報量をチェックする。\n",
    "  欠損値（Nan）や空白の値がないかチェックする。\n",
    "　各変数のデータ値に極端に大きい値や小さい値がないかチェックする。"
   ]
  },
  {
   "cell_type": "markdown",
   "metadata": {},
   "source": [
    "### ●df_Tiをdata_trainとdata_testに分ける"
   ]
  },
  {
   "cell_type": "code",
   "execution_count": 109,
   "metadata": {
    "collapsed": true
   },
   "outputs": [],
   "source": [
    "from sklearn.model_selection import train_test_split\n",
    "data_train,data_test = train_test_split(df_Ti,test_size=0.3,random_state=0)"
   ]
  },
  {
   "cell_type": "markdown",
   "metadata": {},
   "source": [
    "### ●前処理を行う"
   ]
  },
  {
   "cell_type": "code",
   "execution_count": 110,
   "metadata": {
    "collapsed": false
   },
   "outputs": [
    {
     "name": "stderr",
     "output_type": "stream",
     "text": [
      "/Users/takahashikoji/.pyenv/versions/anaconda3-4.3.0/lib/python3.6/site-packages/pandas/core/generic.py:2773: SettingWithCopyWarning: \n",
      "A value is trying to be set on a copy of a slice from a DataFrame.\n",
      "Try using .loc[row_indexer,col_indexer] = value instead\n",
      "\n",
      "See the caveats in the documentation: http://pandas.pydata.org/pandas-docs/stable/indexing.html#indexing-view-versus-copy\n",
      "  self[name] = value\n",
      "/Users/takahashikoji/.pyenv/versions/anaconda3-4.3.0/lib/python3.6/site-packages/ipykernel/__main__.py:23: SettingWithCopyWarning: \n",
      "A value is trying to be set on a copy of a slice from a DataFrame.\n",
      "Try using .loc[row_indexer,col_indexer] = value instead\n",
      "\n",
      "See the caveats in the documentation: http://pandas.pydata.org/pandas-docs/stable/indexing.html#indexing-view-versus-copy\n",
      "/Users/takahashikoji/.pyenv/versions/anaconda3-4.3.0/lib/python3.6/site-packages/ipykernel/__main__.py:24: SettingWithCopyWarning: \n",
      "A value is trying to be set on a copy of a slice from a DataFrame.\n",
      "Try using .loc[row_indexer,col_indexer] = value instead\n",
      "\n",
      "See the caveats in the documentation: http://pandas.pydata.org/pandas-docs/stable/indexing.html#indexing-view-versus-copy\n"
     ]
    },
    {
     "data": {
      "text/html": [
       "<div>\n",
       "<table border=\"1\" class=\"dataframe\">\n",
       "  <thead>\n",
       "    <tr style=\"text-align: right;\">\n",
       "      <th></th>\n",
       "      <th>PassengerId</th>\n",
       "      <th>Survived</th>\n",
       "      <th>Pclass</th>\n",
       "      <th>Sex</th>\n",
       "      <th>Age</th>\n",
       "      <th>SibSp</th>\n",
       "      <th>Parch</th>\n",
       "      <th>Fare</th>\n",
       "      <th>Cabin</th>\n",
       "      <th>Lname</th>\n",
       "      <th>NamePrefix</th>\n",
       "    </tr>\n",
       "  </thead>\n",
       "  <tbody>\n",
       "    <tr>\n",
       "      <th>857</th>\n",
       "      <td>858</td>\n",
       "      <td>1</td>\n",
       "      <td>1</td>\n",
       "      <td>male</td>\n",
       "      <td>Adult</td>\n",
       "      <td>0</td>\n",
       "      <td>0</td>\n",
       "      <td>3_quartile</td>\n",
       "      <td>E</td>\n",
       "      <td>Daly,</td>\n",
       "      <td>Mr.</td>\n",
       "    </tr>\n",
       "    <tr>\n",
       "      <th>52</th>\n",
       "      <td>53</td>\n",
       "      <td>1</td>\n",
       "      <td>1</td>\n",
       "      <td>female</td>\n",
       "      <td>Adult</td>\n",
       "      <td>1</td>\n",
       "      <td>0</td>\n",
       "      <td>4_quartile</td>\n",
       "      <td>D</td>\n",
       "      <td>Harper,</td>\n",
       "      <td>Mrs.</td>\n",
       "    </tr>\n",
       "    <tr>\n",
       "      <th>386</th>\n",
       "      <td>387</td>\n",
       "      <td>0</td>\n",
       "      <td>3</td>\n",
       "      <td>male</td>\n",
       "      <td>Baby</td>\n",
       "      <td>5</td>\n",
       "      <td>2</td>\n",
       "      <td>4_quartile</td>\n",
       "      <td>N</td>\n",
       "      <td>Goodwin,</td>\n",
       "      <td>Master.</td>\n",
       "    </tr>\n",
       "    <tr>\n",
       "      <th>124</th>\n",
       "      <td>125</td>\n",
       "      <td>0</td>\n",
       "      <td>1</td>\n",
       "      <td>male</td>\n",
       "      <td>Adult</td>\n",
       "      <td>0</td>\n",
       "      <td>1</td>\n",
       "      <td>4_quartile</td>\n",
       "      <td>D</td>\n",
       "      <td>White,</td>\n",
       "      <td>Mr.</td>\n",
       "    </tr>\n",
       "    <tr>\n",
       "      <th>578</th>\n",
       "      <td>579</td>\n",
       "      <td>0</td>\n",
       "      <td>3</td>\n",
       "      <td>female</td>\n",
       "      <td>Unknown</td>\n",
       "      <td>1</td>\n",
       "      <td>0</td>\n",
       "      <td>2_quartile</td>\n",
       "      <td>N</td>\n",
       "      <td>Caram,</td>\n",
       "      <td>Mrs.</td>\n",
       "    </tr>\n",
       "  </tbody>\n",
       "</table>\n",
       "</div>"
      ],
      "text/plain": [
       "     PassengerId  Survived  Pclass     Sex      Age  SibSp  Parch        Fare  \\\n",
       "857          858         1       1    male    Adult      0      0  3_quartile   \n",
       "52            53         1       1  female    Adult      1      0  4_quartile   \n",
       "386          387         0       3    male     Baby      5      2  4_quartile   \n",
       "124          125         0       1    male    Adult      0      1  4_quartile   \n",
       "578          579         0       3  female  Unknown      1      0  2_quartile   \n",
       "\n",
       "    Cabin     Lname NamePrefix  \n",
       "857     E     Daly,        Mr.  \n",
       "52      D   Harper,       Mrs.  \n",
       "386     N  Goodwin,    Master.  \n",
       "124     D    White,        Mr.  \n",
       "578     N    Caram,       Mrs.  "
      ]
     },
     "execution_count": 110,
     "metadata": {},
     "output_type": "execute_result"
    }
   ],
   "source": [
    "def simplify_ages(df):\n",
    "    df.Age = df.Age.fillna(-0.5)\n",
    "    bins = (-1, 0, 5, 12, 18, 25, 35, 60, 120)\n",
    "    group_names = ['Unknown', 'Baby', 'Child', 'Teenager', 'Student', 'Young Adult', 'Adult', 'Senior']\n",
    "    categories = pd.cut(df.Age, bins, labels=group_names)\n",
    "    df.Age = categories\n",
    "    return df\n",
    "\n",
    "def simplify_cabins(df):\n",
    "    df.Cabin = df.Cabin.fillna('N')\n",
    "    df.Cabin = df.Cabin.apply(lambda x: x[0])\n",
    "    return df\n",
    "\n",
    "def simplify_fares(df):\n",
    "    df.Fare = df.Fare.fillna(-0.5)\n",
    "    bins = (-1, 0, 8, 15, 31, 1000)\n",
    "    group_names = ['Unknown', '1_quartile', '2_quartile', '3_quartile', '4_quartile']\n",
    "    categories = pd.cut(df.Fare, bins, labels=group_names)\n",
    "    df.Fare = categories\n",
    "    return df\n",
    "\n",
    "def format_name(df):\n",
    "    df['Lname'] = df.Name.apply(lambda x: x.split(' ')[0])\n",
    "    df['NamePrefix'] = df.Name.apply(lambda x: x.split(' ')[1])\n",
    "    return df    \n",
    "\n",
    "def drop_features(df):\n",
    "    return df.drop(['Ticket', 'Name', 'Embarked'], axis=1)\n",
    "\n",
    "def transform_features(df):\n",
    "    df = simplify_ages(df)\n",
    "    df = simplify_cabins(df)\n",
    "    df = simplify_fares(df)\n",
    "    df = format_name(df)\n",
    "    df = drop_features(df)\n",
    "    return df\n",
    "\n",
    "data_train = transform_features(data_train)\n",
    "data_test = transform_features(data_test)\n",
    "data_train.head()"
   ]
  },
  {
   "cell_type": "code",
   "execution_count": 111,
   "metadata": {
    "collapsed": false
   },
   "outputs": [
    {
     "data": {
      "text/html": [
       "<div>\n",
       "<table border=\"1\" class=\"dataframe\">\n",
       "  <thead>\n",
       "    <tr style=\"text-align: right;\">\n",
       "      <th></th>\n",
       "      <th>PassengerId</th>\n",
       "      <th>Survived</th>\n",
       "      <th>Pclass</th>\n",
       "      <th>Sex</th>\n",
       "      <th>Age</th>\n",
       "      <th>SibSp</th>\n",
       "      <th>Parch</th>\n",
       "      <th>Fare</th>\n",
       "      <th>Cabin</th>\n",
       "      <th>Lname</th>\n",
       "      <th>NamePrefix</th>\n",
       "    </tr>\n",
       "  </thead>\n",
       "  <tbody>\n",
       "    <tr>\n",
       "      <th>857</th>\n",
       "      <td>858</td>\n",
       "      <td>1</td>\n",
       "      <td>1</td>\n",
       "      <td>1</td>\n",
       "      <td>0</td>\n",
       "      <td>0</td>\n",
       "      <td>0</td>\n",
       "      <td>2</td>\n",
       "      <td>4</td>\n",
       "      <td>141</td>\n",
       "      <td>17</td>\n",
       "    </tr>\n",
       "    <tr>\n",
       "      <th>52</th>\n",
       "      <td>53</td>\n",
       "      <td>1</td>\n",
       "      <td>1</td>\n",
       "      <td>0</td>\n",
       "      <td>0</td>\n",
       "      <td>1</td>\n",
       "      <td>0</td>\n",
       "      <td>3</td>\n",
       "      <td>3</td>\n",
       "      <td>239</td>\n",
       "      <td>18</td>\n",
       "    </tr>\n",
       "    <tr>\n",
       "      <th>386</th>\n",
       "      <td>387</td>\n",
       "      <td>0</td>\n",
       "      <td>3</td>\n",
       "      <td>1</td>\n",
       "      <td>1</td>\n",
       "      <td>5</td>\n",
       "      <td>2</td>\n",
       "      <td>3</td>\n",
       "      <td>7</td>\n",
       "      <td>220</td>\n",
       "      <td>11</td>\n",
       "    </tr>\n",
       "    <tr>\n",
       "      <th>124</th>\n",
       "      <td>125</td>\n",
       "      <td>0</td>\n",
       "      <td>1</td>\n",
       "      <td>1</td>\n",
       "      <td>0</td>\n",
       "      <td>0</td>\n",
       "      <td>1</td>\n",
       "      <td>3</td>\n",
       "      <td>3</td>\n",
       "      <td>637</td>\n",
       "      <td>17</td>\n",
       "    </tr>\n",
       "    <tr>\n",
       "      <th>578</th>\n",
       "      <td>579</td>\n",
       "      <td>0</td>\n",
       "      <td>3</td>\n",
       "      <td>0</td>\n",
       "      <td>6</td>\n",
       "      <td>1</td>\n",
       "      <td>0</td>\n",
       "      <td>1</td>\n",
       "      <td>7</td>\n",
       "      <td>94</td>\n",
       "      <td>18</td>\n",
       "    </tr>\n",
       "  </tbody>\n",
       "</table>\n",
       "</div>"
      ],
      "text/plain": [
       "     PassengerId  Survived  Pclass  Sex  Age  SibSp  Parch  Fare  Cabin  \\\n",
       "857          858         1       1    1    0      0      0     2      4   \n",
       "52            53         1       1    0    0      1      0     3      3   \n",
       "386          387         0       3    1    1      5      2     3      7   \n",
       "124          125         0       1    1    0      0      1     3      3   \n",
       "578          579         0       3    0    6      1      0     1      7   \n",
       "\n",
       "     Lname  NamePrefix  \n",
       "857    141          17  \n",
       "52     239          18  \n",
       "386    220          11  \n",
       "124    637          17  \n",
       "578     94          18  "
      ]
     },
     "execution_count": 111,
     "metadata": {},
     "output_type": "execute_result"
    }
   ],
   "source": [
    "from sklearn import preprocessing\n",
    "def encode_features(df_train, df_test):\n",
    "    features = ['Fare', 'Cabin', 'Age', 'Sex', 'Lname', 'NamePrefix']\n",
    "    df_combined = pd.concat([df_train[features], df_test[features]])\n",
    "\n",
    "    for feature in features:\n",
    "        le = preprocessing.LabelEncoder()\n",
    "        le = le.fit(df_combined[feature])\n",
    "        df_train[feature] = le.transform(df_train[feature])\n",
    "        df_test[feature] = le.transform(df_test[feature])\n",
    "    return df_train, df_test\n",
    "\n",
    "data_train, data_test = encode_features(data_train, data_test)\n",
    "data_train.head()"
   ]
  },
  {
   "cell_type": "markdown",
   "metadata": {},
   "source": [
    "from sklearn import preprocessing\n",
    "def encode_features(df_train, df_test):\n",
    "    features = ['Fare', 'Cabin', 'Age', 'Sex', 'Lname', 'NamePrefix']\n",
    "    df_combined = pd.concat([df_train[features], df_test[features]])　# pd.concat()結合する。\n",
    "\n",
    "    for feature in features:\n",
    "        le = preprocessing.LabelEncoder()　# LabelEncoderを使ってカラム内の値を数値化する。\n",
    "        le = le.fit(df_combined[feature])　# 各カラムのtrainとtestを結合させたものをフィットさせている。\n",
    "        df_train[feature] = le.transform(df_train[feature])　# trainの特徴量を正規化して変形させている。\n",
    "        df_test[feature] = le.transform(df_test[feature]) # testの特徴量を正規化して変形させている。\n",
    "    return df_train, df_test\n",
    "\n",
    "data_train, data_test = encode_features(data_train, data_test)"
   ]
  },
  {
   "cell_type": "markdown",
   "metadata": {},
   "source": [
    "### ●前処理の内容について記述せよ"
   ]
  },
  {
   "cell_type": "markdown",
   "metadata": {},
   "source": [
    "__simplify_ages__\n",
    "A.'Age'列の欠損値を-0.5で埋めてデータの年齢幅ごとに「group_names」の各名称に分類している。これにより'Age'列が年代別に分類される。\n",
    "\n",
    "__simplify_cabins__\n",
    "A.'Cabin'列の欠損値をNで埋めてdf.applyで各行に対して無名関数(lambda)を適用。これにより全ての'Cabin'列の全ての値が'N'になる。\n",
    "\n",
    "__simplify_fares__\n",
    "A.'Fare'列の欠損値を-0.5で埋めてデータの料金幅ごとに１〜４等船室に分類している。これにより'Fare'が客室のランクごとに分類される。\n",
    "\n",
    "__format_name__\n",
    "A.'Name'列の自然言語を元に新しい列'Lname'=0と'NamePrefix'=1を作り分類している。これにより名前が0と1の二値変数に分類される。\n",
    "\n",
    "__drop_features__\n",
    "A.説明変数として扱いにくいデータである、'Ticket', 'Name', 'Embarked'の３つの変数を削除している。これにより処理が円滑に進む。\n",
    "\n",
    "__encode_features__\n",
    "A.トレインデータ（訓練データ）とテストデータを結合させている。LabelEncoder()でfeatures内のカラムの値を数値化させている。\n",
    "　data_trainとdata_testのカラムをフィット、変形させている。"
   ]
  },
  {
   "cell_type": "markdown",
   "metadata": {},
   "source": [
    "### ●モデル選択について記述せよ"
   ]
  },
  {
   "cell_type": "markdown",
   "metadata": {},
   "source": [
    "1.__サポートベクターマシーン(SVM)__\n",
    "データを分類するための境界線を決定する際に、境界線から一番近いサンプルデータまでのマージンの和が最大になる線を境界線とする手法。\n",
    "分類も回帰にも利用できる。\n",
    "\n",
    "・長所\n",
    "　1.データの特徴の次元が大きくなっても識別精度が良い\n",
    "  2.最適化すべきパラメータが少ない\n",
    "  3.パラメータの算出が容易\n",
    "\n",
    "・短所\n",
    "  1.モデルの汎化能力が保証されない。\n",
    "  2.基本的には2クラスの分類にしか使えない\n",
    "  3.学習データが増えると計算量が膨大になる\n",
    "　　（「次元の呪い」の影響が顕著）\n",
    "　\n",
    "\n",
    "2.__ランダムフォレスト__\n",
    "訓練データからランダムにデータを選んで決定木を複数作り、それぞれの決定木で予測された結果の多数決により、最終的なクラスを判定する手法。\n",
    "回帰で使用する時は各予測の平均をとって数値を算出する。\n",
    "このように、訓練データの一部を使用してモデルして予測し、それを何度も繰り返して最後に合わせる方法をバギングという。\n",
    "\n",
    "・長所\n",
    "　1.データの正規化・標準化を考える必要がない\n",
    "  2.計算速度が速い\n",
    "  3.特徴量をランダムに選択する事でばらつきが増えて各決定木の結果が似てしまう事が改善される\n",
    "\n",
    "\n",
    "・短所\n",
    "  1.複雑なデータではSVMなどの分類手法に比べて汎化性能が下がる\n",
    "  2.データ数が少ないと汎化性能が下がる\n",
    "  3.比較的過学習しやすい\n",
    "\n",
    "\n",
    "・__Ada boost(エイダブースト)__\n",
    "弱分類器を複数作り、訓練データで1番精度が高いものを第1分類器として選ぶ。\n",
    "第1分類器が誤判断したデータに対して最も精度が高い分類器を第2分類器として1つ選ぶ。\n",
    "これを繰り返し、弱分類器からお互いに補完しあう弱分類器を選別し、最後に合算する手法。\n",
    "前回の弱分類器の結果を利用して、分類を回繰り返す方法をブースティングという。\n",
    "\n",
    "・長所\n",
    "　1.弱い識別機を幾つか組み合わせるので、精度が高く正確に分類されやすい。\n",
    "  2.核となる学習アルゴリズムに何を設けるかの制限がない。\n",
    "  3.少ない学習データからも効率的に学習を行う事が出来る。\n",
    "\n",
    "\n",
    "・短所\n",
    "  1.ノイズの多いデータや異常値に影響を受けやすい\n",
    "  2.他の学習アルゴリズムと組み合わせないと効果を発揮出来ない\n",
    "  3.過学習になりやすい\n",
    "\n",
    "\n",
    "\n",
    "4.__ナイーブベイズ__\n",
    "各要素(説明変数)が独立に予測対象に影響を与えていると仮定して、ベイズの定理を活用し、最もその分類が発生する確率が高いものを予測とする手法。主に文章に利用され、文章の単語をベースにした分類に使われる。\n",
    "\n",
    "・長所\n",
    "　1構築するのが簡単でパラメータ推定するために複雑な繰り返し計算が必要ない\n",
    "  2.単純なだけに高速である\n",
    "  3.最も古い手法であり、形も単純であるに関わらず、性能はとても高い\n",
    "\n",
    "\n",
    "・短所\n",
    "  1.中規模または大規模なトレーニングデータセットを持っていないと適用出来ない。\n",
    "  2.インスタンスに複数の属性がないと適用出来ない。\n",
    "  3.分類パラメータが与えられると、インスタンスを記述する属性は条件的に独立していなければならない。"
   ]
  },
  {
   "cell_type": "markdown",
   "metadata": {
    "collapsed": true
   },
   "source": [
    "### ●モデル選択の基準"
   ]
  },
  {
   "cell_type": "markdown",
   "metadata": {
    "collapsed": true
   },
   "source": [
    "1.「分析の目的」　　\n",
    "\n",
    "　 この機械学習を行う上で自分は何を知りたいのか？を先ず念頭に於いてモデルを選択する。\n",
    " 　例.説明変数の予測値への寄与を大雑把に知りたい。予測値の正確性が命。予測精度が実用的で因果関係の類推も行いたい。などなど\n",
    "\n",
    "2.「中身の分かりやすさ」　　\n",
    "\n",
    "  「中身の分かりやすさ」とは、モデルを一つの入出力器とみなした場合、\n",
    "   入力に相当する説明変数と出力に相当する目的変数（予測値）間の関係が陽に解釈出来るかどうかに依存する。入出力の関係がパラメータなどを通して\n",
    "   理解しやすいならばモデルはホワイトボックスとして因果類推に役立つ。\n",
    "   入出力の関係性が陽でないブラックボックスなモデルの場合は如何に精度が高くとも説明変数の何がどれほど予測結果に寄与しているか言及出来ない。\n",
    "   \n",
    "3.「予測精度」　　\n",
    "\n",
    "　「予測精度」 は学習から得られたモデル（近似関数）がどれだけ正確に出力するかという指標で、訓練データのみ精度が高くその他で精度が低い　　\n",
    " \n",
    "  　 過学習の問題を解消出来るならば非線形性を有する手法ほど精度が高い傾向にある。　"
   ]
  },
  {
   "cell_type": "markdown",
   "metadata": {},
   "source": [
    "### ●モデル選択におけるデータ可視化"
   ]
  },
  {
   "cell_type": "code",
   "execution_count": 112,
   "metadata": {
    "collapsed": true
   },
   "outputs": [],
   "source": [
    "import matplotlib.pyplot as plt\n",
    "import seaborn as sns\n",
    "%matplotlib inline"
   ]
  },
  {
   "cell_type": "code",
   "execution_count": 113,
   "metadata": {
    "collapsed": false
   },
   "outputs": [
    {
     "data": {
      "text/plain": [
       "<matplotlib.axes._subplots.AxesSubplot at 0x1110c2128>"
      ]
     },
     "execution_count": 113,
     "metadata": {},
     "output_type": "execute_result"
    },
    {
     "data": {
      "image/png": "[encoded data removed]",
      "text/plain": [
       "<matplotlib.figure.Figure at 0x110c71320>"
      ]
     },
     "metadata": {},
     "output_type": "display_data"
    }
   ],
   "source": [
    "# hue=はSurvivedを性別毎に分けている。\n",
    "sns.barplot(x=\"Age\", y=\"Survived\",hue=\"Sex\", data=data_train)"
   ]
  },
  {
   "cell_type": "code",
   "execution_count": 114,
   "metadata": {
    "collapsed": false
   },
   "outputs": [
    {
     "data": {
      "image/png": "[encoded data removed]",
      "text/plain": [
       "<matplotlib.figure.Figure at 0x110a0da90>"
      ]
     },
     "metadata": {},
     "output_type": "display_data"
    }
   ],
   "source": [
    "sns.pointplot(x=\"Pclass\", y=\"Survived\", hue=\"Sex\", data=data_train,markers=[\"*\", \"o\"],linestyles=[\"-\", \"--\"]);"
   ]
  },
  {
   "cell_type": "markdown",
   "metadata": {},
   "source": [
    "### ●データ可視化の結果について考察せよ"
   ]
  },
  {
   "cell_type": "markdown",
   "metadata": {},
   "source": [
    "A.可視化する事によってデータセット内の２つの特徴量の相関度が分かりやすくなる。　　\n",
    "\n",
    "モデル選択をする場合、先ずデータ内の気になる特徴量を可視化してそれらの相関関係を調べてみる必要がある。"
   ]
  },
  {
   "cell_type": "markdown",
   "metadata": {},
   "source": [
    "### ●データセットの分割"
   ]
  },
  {
   "cell_type": "code",
   "execution_count": 115,
   "metadata": {
    "collapsed": false
   },
   "outputs": [],
   "source": [
    "from sklearn.model_selection import train_test_split\n",
    "\n",
    "X = data_train.drop(['Survived', 'PassengerId'], axis=1)\n",
    "y = data_train['Survived']\n",
    "\n",
    "X_train, X_test, y_train, y_test = train_test_split(X,y,test_size=0.2,random_state=0)"
   ]
  },
  {
   "cell_type": "markdown",
   "metadata": {},
   "source": [
    "### ●ランダムフォレストについて記述せよ"
   ]
  },
  {
   "cell_type": "markdown",
   "metadata": {},
   "source": [
    "A.  \n",
    "\n",
    "__決定木__　　\n",
    "\n",
    "決定木分析は「予測」や「判別」・「分類」を目的として使われるデータマイニング手法。顧客情報やアンケート結果などについて、【目的変数】に影響する【説明変数】を見つけ、樹木状のモデルを作成する分析方法である。\n",
    " \n",
    " __・長所__　　\n",
    " \n",
    " 1.入力データから特徴を学習し、決定木と呼ばれる樹木状の構造で学習結果を視覚化でき、ルールをシンプルに表現できる特徴がある。  \n",
    " \n",
    " 2.他の多くの手法ではデータの標準化 (正規化) やダミー変数の作成を必要とするのに対し決定木分析では　　\n",
    " \n",
    " このような前処理の手間がほとんど不要である。  \n",
    " \n",
    " 3.カテゴリカルデータ (名義尺度の変数) と数値データ (順序尺度、間隔尺度の変数) の両方を扱うことが可能。  \n",
    " \n",
    " 4.ニューラルネットなどのようなブラックボックスのモデルと比較して、  \n",
    " \n",
    " 決定木はホワイトボックスのモデルだといえ、論理的に解釈することが容易である。  \n",
    " \n",
    " 5.検定を行って、作成したモデルの正しさを評価することが可能である。  \n",
    " 6.外れ値に対して頑健である。\n",
    " \n",
    " \n",
    " \n",
    " __・短所__  \n",
    " \n",
    " 1.分類性能が高い手法ではない。（SVM）の方が良いとされる。  \n",
    " \n",
    " 2.木が過度に分岐する事が多い。（過学習）学習設定や刈り込みが必要である。  \n",
    " \n",
    " 3.データが少し変わるだけで全く違う木が生成される事がある。（不安定）  \n",
    " \n",
    " 4.線形性の性質があるデータには適していない。  \n",
    " \n",
    " 5.XOR(排他的論理和)の分類は出来ない。（２変数の同時利用が出来ない）\n",
    "\n",
    "\n",
    "__ランダムフォレスト__  \n",
    "\n",
    "訓練データからランダムにデータを選んで決定木を複数作り、それぞれの決定木で予測された結果の多数決により、最終的なクラスを判定する手法。 回帰で使用する時は各予測の平均をとって数値を算出する。 このように訓練データの一部を使用してモデルして予測し、それを何度も繰り返して最後に合わせる方法をバギングという。  \n",
    "\n",
    "__・長所__  \n",
    "\n",
    "1.データの正規化・標準化を考える必要がない  \n",
    "\n",
    "2.計算速度が速い   \n",
    "\n",
    "3.特徴量をランダムに選択する事でばらつきが増えて各決定木の結果が似てしまう事が改善される  \n",
    "\n",
    "__・短所__  \n",
    "\n",
    "1.複雑なデータではSVMなどの分類手法に比べて汎化性能が下がる  \n",
    "\n",
    "2.データ数が少ないと汎化性能が下がる  \n",
    "\n",
    "3.過学習しやすい\n",
    "\n",
    "\n",
    "__今回の目的からランダムフォレストの手法が適する理由__　　\n",
    "\n",
    "A.ランダムフォレストは「予測精度」と「中身のわかりやすさ」を両立する位置に存在し、数ある機械学習モデルの中でも使い勝手が良い。  \n",
    "比較的、単純な構造で理解しやすいにも関わらず高い予測精度（汎化性能）を持ち、ホワイトボックス性があり説明変数と目的変数の因果関係を理解しやすい。なのでタイタニックの生存予測問題に於ける、生存者（目的変数）と生き残れた原因（説明変数）の関係の解釈を比較的容易に出来るから。"
   ]
  },
  {
   "cell_type": "markdown",
   "metadata": {
    "collapsed": true
   },
   "source": [
    "### ●学習"
   ]
  },
  {
   "cell_type": "code",
   "execution_count": 116,
   "metadata": {
    "collapsed": false
   },
   "outputs": [
    {
     "name": "stdout",
     "output_type": "stream",
     "text": [
      "0.961847389558\n",
      "0.784\n"
     ]
    }
   ],
   "source": [
    "#ランダムフォレストを使用して、学習を行いましょう。Classifier = 分類\n",
    "\n",
    "from sklearn.ensemble import RandomForestClassifier\n",
    "\n",
    "clf = RandomForestClassifier(max_depth=13,criterion='entropy',random_state=0)\n",
    "clf.fit(X_train,y_train)\n",
    "\n",
    "print(clf.score(X_train,y_train))\n",
    "print(clf.score(X_test,y_test))"
   ]
  },
  {
   "cell_type": "markdown",
   "metadata": {},
   "source": [
    "### ●accuracyを求めよ"
   ]
  },
  {
   "cell_type": "code",
   "execution_count": 117,
   "metadata": {
    "collapsed": false
   },
   "outputs": [
    {
     "data": {
      "text/plain": [
       "array([0, 0, 0, 0, 0, 0, 0, 0, 0, 0, 0, 1, 1, 0, 0, 0, 0, 0, 1, 1, 1, 0, 0,\n",
       "       0, 0, 0, 0, 0, 0, 0, 0, 0, 1, 1, 0, 1, 0, 0, 0, 0, 1, 0, 0, 0, 1, 1,\n",
       "       1, 1, 0, 0, 1, 0, 1, 0, 0, 1, 1, 1, 1, 0, 0, 1, 1, 1, 1, 0, 0, 1, 1,\n",
       "       0, 0, 0, 1, 0, 0, 0, 0, 0, 0, 1, 0, 0, 0, 0, 0, 1, 0, 0, 0, 0, 0, 1,\n",
       "       1, 0, 0, 0, 1, 0, 0, 0, 0, 1, 1, 1, 1, 0, 0, 1, 0, 0, 0, 0, 1, 1, 0,\n",
       "       1, 0, 1, 0, 1, 0, 1, 1, 0, 1])"
      ]
     },
     "execution_count": 117,
     "metadata": {},
     "output_type": "execute_result"
    }
   ],
   "source": [
    "# X_test予測値\n",
    "test_pred = clf.predict(X_test)\n",
    "test_pred"
   ]
  },
  {
   "cell_type": "markdown",
   "metadata": {},
   "source": [
    "### ●精度を確かめる"
   ]
  },
  {
   "cell_type": "code",
   "execution_count": 118,
   "metadata": {
    "collapsed": false
   },
   "outputs": [
    {
     "name": "stdout",
     "output_type": "stream",
     "text": [
      "0.784\n"
     ]
    }
   ],
   "source": [
    "from sklearn.metrics import accuracy_score\n",
    "\n",
    "print(accuracy_score(y_test,test_pred))"
   ]
  },
  {
   "cell_type": "markdown",
   "metadata": {},
   "source": [
    "### ●ハイパーパラメータについて"
   ]
  },
  {
   "cell_type": "markdown",
   "metadata": {},
   "source": [
    "A.コンピュータではなく人間が選択、または指定しなければいけないパラメータをハイパーパラメータ(Hyperparameter)と呼ぶ。\n",
    " \n",
    "__ランダムフォレストに於けるハイパーパラメータ__  \n",
    "\n",
    "__1.n_estimators__  \n",
    "値はint。決定木の数を決定する。\n",
    "\n",
    "__2.criterion__　　\n",
    "\n",
    "値はstr。分割の品質を測定する機能。 測定の基準は「Gini係数」と「entropy」。\n",
    "\n",
    "__3.max_features__  \n",
    "値はint。目的変数のサンプリング時に、いくつの目的変数をサンプリングするか。\n",
    "\n",
    "__4.max_depth__　　\n",
    "\n",
    "値はint。ツリーの最大深度を決定する。"
   ]
  },
  {
   "cell_type": "markdown",
   "metadata": {},
   "source": [
    "### ●チューニング"
   ]
  },
  {
   "cell_type": "code",
   "execution_count": 119,
   "metadata": {
    "collapsed": false
   },
   "outputs": [
    {
     "name": "stdout",
     "output_type": "stream",
     "text": [
      "0.925702811245\n",
      "0.8\n"
     ]
    }
   ],
   "source": [
    "from sklearn.ensemble import RandomForestClassifier\n",
    "\n",
    "clf = RandomForestClassifier(n_estimators=9,max_depth=13,criterion='entropy',min_samples_split=5,min_samples_leaf=1,random_state=0)\n",
    "clf.fit(X_train,y_train)\n",
    "\n",
    "print(clf.score(X_train,y_train))\n",
    "print(clf.score(X_test,y_test))"
   ]
  },
  {
   "cell_type": "markdown",
   "metadata": {},
   "source": [
    "### ●検証について記述せよ"
   ]
  },
  {
   "cell_type": "markdown",
   "metadata": {
    "collapsed": true
   },
   "source": [
    "A.検証とは、機械学習によって得たモデルの精度を確かめる事であり、モデルの検証方法には様々ある。　　\n",
    "\n",
    "　検証を行わないと、得られたモデルの汎化能力を確かめる事が出来ないので必ず行う必要がある。　　\n",
    " \n",
    "  Accuracyとは「正解率」の事。あくまで予測結果全体と、答えがどれぐらい一致しているかを判断するひとつの指標に過ぎないので　　\n",
    "  \n",
    "  他の指標を使った検証を行う事でより正確にモデルの精度を確かめる事が出来る。\n",
    "  \n",
    "__1.交差確認法 / 一つ抜き法__　　\n",
    "\n",
    "__2.ブートストラップ法__　　\n",
    "\n",
    "__3.ホールドアウト法__"
   ]
  },
  {
   "cell_type": "markdown",
   "metadata": {},
   "source": [
    "### ●KFoldについて記述せよ\n"
   ]
  },
  {
   "cell_type": "markdown",
   "metadata": {},
   "source": [
    "A.K-分割交差検証では、データセットをK個に分割する。そして、そのうちの1つをtest_dataとし、残る K − 1 個をtrain_dataとするのが一般的である。交差検証は、K 個に分割されたデータセットそれぞれをテスト事例として k 回検証を行う。そうやって得られた k 回の結果を平均して1つの推定を得る。"
   ]
  },
  {
   "cell_type": "markdown",
   "metadata": {},
   "source": [
    "### ●KFoldを実施する　●KFoldの結果を確認する"
   ]
  },
  {
   "cell_type": "code",
   "execution_count": 168,
   "metadata": {
    "collapsed": false,
    "scrolled": true
   },
   "outputs": [
    {
     "name": "stdout",
     "output_type": "stream",
     "text": [
      "     Pclass  Sex  Age  SibSp  Parch  Fare  Cabin  NamePrefix\n",
      "857       1    1    0      0      0     2      4          17\n",
      "52        1    0    0      1      0     3      3          18\n",
      "386       3    1    1      5      2     3      7          11\n",
      "124       1    1    0      0      1     3      3          17\n",
      "578       3    0    6      1      0     1      7          18\n",
      "--\n",
      "0.886746987952\n",
      "[ 0.15595629  0.15435843  0.13887423  0.10766132  0.04585177  0.06681461\n",
      "  0.07817854  0.25230481]\n",
      "--\n",
      "0.903614457831\n",
      "[ 0.12365441  0.17155774  0.13663523  0.11005807  0.05907109  0.10234154\n",
      "  0.09426246  0.20241945]\n",
      "--\n",
      "0.887019230769\n",
      "[ 0.08404555  0.16225889  0.14668735  0.10172588  0.07246024  0.1268486\n",
      "  0.083196    0.22277748]\n",
      "KFoldによるモデルの精度0.789738944630249\n"
     ]
    }
   ],
   "source": [
    "from sklearn.model_selection import KFold\n",
    "from sklearn.ensemble import RandomForestClassifier\n",
    "\n",
    "\n",
    "kf= KFold(n_splits = 3,shuffle=True,random_state=0)\n",
    "X = data_train.drop(['Survived', 'PassengerId','Lname'], axis=1)\n",
    "y = data_train['Survived']\n",
    "print(X.head())\n",
    "\n",
    "a=[]\n",
    "X=np.array(X)\n",
    "y=np.array(y)\n",
    "for train_index, test_index in kf.split(X):\n",
    "    print('--')\n",
    "    #print(train_index)\n",
    "    #print(test_index)\n",
    "    \n",
    "    X_train, X_test = X[train_index], X[test_index]\n",
    "    y_train, y_test = y[train_index], y[test_index]\n",
    "    clf = RandomForestClassifier(n_estimators=9,max_depth=13,criterion='entropy',min_samples_split=5,min_samples_leaf=1,random_state=0)\n",
    "    clf=clf.fit(X_train,y_train)\n",
    "    print(clf.score(X_train,y_train))\n",
    "    b=(clf.score(X_test,y_test))\n",
    "    a.append(b)\n",
    "    print(clf.feature_importances_) # 各特徴量の重要度を表す。\n",
    "\n",
    "print(\"KFoldによるモデルの精度{}\".format(np.mean(a)))"
   ]
  },
  {
   "cell_type": "markdown",
   "metadata": {},
   "source": [
    "### ●どの特徴量が重要であったかを調査する。"
   ]
  },
  {
   "cell_type": "markdown",
   "metadata": {},
   "source": [
    "A.feature_importances_の結果をもとに特徴量の重要度を確認したところ、一番数値が大きかったのは「NamePrefix」であった。　　\n",
    "\n",
    "「NamePrefix」で性別と大人か子供かなどの情報が得られる。次に値が大きい傾向にあるのが「sex（性別）」と「 Age(年齢)」である事が確認出来た。　　\n",
    "\n",
    "※feature_importances_に於いて数値が大きい程重要度が高いという事。"
   ]
  },
  {
   "cell_type": "code",
   "execution_count": null,
   "metadata": {
    "collapsed": true
   },
   "outputs": [],
   "source": []
  }
 ],
 "metadata": {
  "kernelspec": {
   "display_name": "Python 3",
   "language": "python",
   "name": "python3"
  },
  "language_info": {
   "codemirror_mode": {
    "name": "ipython",
    "version": 3
   },
   "file_extension": ".py",
   "mimetype": "text/x-python",
   "name": "python",
   "nbconvert_exporter": "python",
   "pygments_lexer": "ipython3",
   "version": "3.6.0"
  }
 },
 "nbformat": 4,
 "nbformat_minor": 2
}
