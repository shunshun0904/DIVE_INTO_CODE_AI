{
 "cells": [
  {
   "cell_type": "markdown",
   "metadata": {},
   "source": [
    "## 【AIコース】大課題 ボストン住宅価格 線形回帰"
   ]
  },
  {
   "cell_type": "markdown",
   "metadata": {},
   "source": [
    "### ●線形回帰とは何か"
   ]
  },
  {
   "cell_type": "markdown",
   "metadata": {
    "collapsed": true
   },
   "source": [
    "A.線回帰分析は、複数の変数における相関関係を直線モデルによって説明しようとする分析手法である。  \n",
    "ある説明変数(x)と対応する目的変数(t)から、説明変数と目的変数の回帰方程式 y(x) を予測する。\n",
    "回帰は連続値を予測する。分類は離散型の値を予測する。"
   ]
  },
  {
   "cell_type": "markdown",
   "metadata": {},
   "source": [
    "### ●データを取得する"
   ]
  },
  {
   "cell_type": "code",
   "execution_count": 8,
   "metadata": {
    "collapsed": false
   },
   "outputs": [],
   "source": [
    "from sklearn.datasets import load_boston\n",
    "import numpy as np\n",
    "import pandas as pd\n",
    "boston = load_boston()"
   ]
  },
  {
   "cell_type": "markdown",
   "metadata": {},
   "source": [
    "### ●取得データをDataFrameにする"
   ]
  },
  {
   "cell_type": "code",
   "execution_count": 9,
   "metadata": {
    "collapsed": false
   },
   "outputs": [],
   "source": [
    "# 説明変数\n",
    "X = pd.DataFrame(boston.data[:100],columns=boston.feature_names)\n",
    "# 目的変数\n",
    "y = boston.target[:100]"
   ]
  },
  {
   "cell_type": "markdown",
   "metadata": {},
   "source": [
    "### ●説明変数を'LSTAT'のみにする"
   ]
  },
  {
   "cell_type": "code",
   "execution_count": 10,
   "metadata": {
    "collapsed": false
   },
   "outputs": [],
   "source": [
    "x = X.loc[:,['LSTAT']].as_matrix()"
   ]
  },
  {
   "cell_type": "markdown",
   "metadata": {},
   "source": [
    "### ●単回帰と重回帰についての違いを記述せよ"
   ]
  },
  {
   "cell_type": "markdown",
   "metadata": {},
   "source": [
    "A.単回帰は説明変数が一つの場合、重回帰は説明変数が二つ以上の場合を指す。"
   ]
  },
  {
   "cell_type": "markdown",
   "metadata": {},
   "source": [
    "### ●テストデータに分割する"
   ]
  },
  {
   "cell_type": "code",
   "execution_count": 11,
   "metadata": {
    "collapsed": false
   },
   "outputs": [],
   "source": [
    "from sklearn.model_selection import train_test_split\n",
    "X_train,X_test,Y_train,Y_test=train_test_split(X,y,test_size=0.2,random_state=0)"
   ]
  },
  {
   "cell_type": "markdown",
   "metadata": {},
   "source": [
    "### ●学習"
   ]
  },
  {
   "cell_type": "code",
   "execution_count": 12,
   "metadata": {
    "collapsed": false
   },
   "outputs": [
    {
     "data": {
      "text/plain": [
       "LinearRegression(copy_X=True, fit_intercept=True, n_jobs=1, normalize=False)"
      ]
     },
     "execution_count": 12,
     "metadata": {},
     "output_type": "execute_result"
    }
   ],
   "source": [
    "from sklearn.linear_model import LinearRegression\n",
    "lin_1d = LinearRegression()\n",
    "x_ = X_train.loc[:,['LSTAT']].as_matrix()\n",
    "\n",
    "lin_1d.fit(x_,Y_train)"
   ]
  },
  {
   "cell_type": "markdown",
   "metadata": {},
   "source": [
    "### ●決定係数"
   ]
  },
  {
   "cell_type": "code",
   "execution_count": 19,
   "metadata": {
    "collapsed": false
   },
   "outputs": [
    {
     "name": "stdout",
     "output_type": "stream",
     "text": [
      "一次式における'LSTAT'の住宅価格への決定係数は0.42\n"
     ]
    }
   ],
   "source": [
    "x_2 = X_test.loc[:,['LSTAT']].as_matrix()\n",
    "score_1d = lin_1d.score(x_2,Y_test)\n",
    "print(\"一次式における'LSTAT'の住宅価格への決定係数は%.2f\"%(score_1d))"
   ]
  },
  {
   "cell_type": "markdown",
   "metadata": {},
   "source": [
    "### ●決定係数とは何か記述せよ"
   ]
  },
  {
   "cell_type": "markdown",
   "metadata": {},
   "source": [
    "A.決定係数とは線形モデルの汎化能力を測定するための尺度。  \n",
    "決定数は０〜１の値を取り、もっとも説明変数が目的変数を説明できる場合に１となる。"
   ]
  },
  {
   "cell_type": "markdown",
   "metadata": {},
   "source": [
    "### ●決定係数をいかなる場合も信じても良いか記述せよ(決定係数が高ければ、汎用性があるモデルと言えるか"
   ]
  },
  {
   "cell_type": "markdown",
   "metadata": {},
   "source": [
    "A.指標とするのは良いか絶対的に信じてはいけない。決定係数は単純に説明変数を増やせば増やすほど過学習して100%に近づく場合があるから。"
   ]
  },
  {
   "cell_type": "markdown",
   "metadata": {},
   "source": [
    "### ●2,3,4次式の回帰"
   ]
  },
  {
   "cell_type": "code",
   "execution_count": 14,
   "metadata": {
    "collapsed": false
   },
   "outputs": [
    {
     "name": "stdout",
     "output_type": "stream",
     "text": [
      "二次式における'LSTAT'の住宅価格への決定係数は0.62\n",
      "二次式における'LSTAT'の住宅価格への決定係数は0.66\n",
      "二次式における'LSTAT'の住宅価格への決定係数は0.67\n"
     ]
    }
   ],
   "source": [
    "from sklearn.preprocessing import PolynomialFeatures\n",
    "\n",
    "lin_2d = LinearRegression()\n",
    "lin_3d = LinearRegression()\n",
    "lin_4d = LinearRegression()\n",
    "\n",
    "degree_2 = PolynomialFeatures(degree=2)\n",
    "degree_3 = PolynomialFeatures(degree=3)\n",
    "degree_4 = PolynomialFeatures(degree=4)\n",
    "\n",
    "x_train_2 = degree_2.fit_transform(x_)\n",
    "x_train_3 = degree_3.fit_transform(x_)\n",
    "x_train_4 = degree_4.fit_transform(x_)\n",
    "\n",
    "lin_2d.fit(x_train_2,Y_train)\n",
    "lin_3d.fit(x_train_3,Y_train)\n",
    "lin_4d.fit(x_train_4,Y_train)\n",
    "\n",
    "x_test_2 = degree_2.fit_transform(x_2)\n",
    "x_test_3 = degree_3.fit_transform(x_2)\n",
    "x_test_4 = degree_4.fit_transform(x_2)\n",
    "\n",
    "score_2d = lin_2d.score(x_test_2,Y_test)\n",
    "score_3d = lin_3d.score(x_test_3,Y_test)\n",
    "score_4d = lin_4d.score(x_test_4,Y_test)\n",
    "\n",
    "print(\"二次式における'LSTAT'の住宅価格への決定係数は%.2f\"%(score_2d))\n",
    "print(\"二次式における'LSTAT'の住宅価格への決定係数は%.2f\"%(score_3d))\n",
    "print(\"二次式における'LSTAT'の住宅価格への決定係数は%.2f\"%(score_4d))"
   ]
  },
  {
   "cell_type": "markdown",
   "metadata": {},
   "source": [
    "### ●次数が大きくなるとどうなるか記述せよ"
   ]
  },
  {
   "cell_type": "markdown",
   "metadata": {},
   "source": [
    "A.次数を増やす事での数式の変化（2次式 ax^2 + b）（3次式 ax^3 + b） （3次式 ax^4 + b)  \n",
    "  次数を増やす事のメリット。次数を増やす事でモデルがより複雑になり表現力が上がり、二乗和誤差を少なく抑える事が期待出来る。\n",
    "  次数を増やす事のデメリットとして、次数を増やしモデルの表現力が上がり過ぎる事で学ぶ必要のないノイズまで学び過学習を起こしてしまう恐れがある。"
   ]
  },
  {
   "cell_type": "markdown",
   "metadata": {},
   "source": [
    "### ●重回帰"
   ]
  },
  {
   "cell_type": "code",
   "execution_count": 15,
   "metadata": {
    "collapsed": false
   },
   "outputs": [
    {
     "data": {
      "text/html": [
       "<div>\n",
       "<table border=\"1\" class=\"dataframe\">\n",
       "  <thead>\n",
       "    <tr style=\"text-align: right;\">\n",
       "      <th></th>\n",
       "      <th>CRIM</th>\n",
       "      <th>ZN</th>\n",
       "      <th>INDUS</th>\n",
       "      <th>CHAS</th>\n",
       "      <th>NOX</th>\n",
       "      <th>RM</th>\n",
       "      <th>AGE</th>\n",
       "      <th>DIS</th>\n",
       "      <th>RAD</th>\n",
       "      <th>TAX</th>\n",
       "      <th>PTRATIO</th>\n",
       "      <th>B</th>\n",
       "      <th>LSTAT</th>\n",
       "    </tr>\n",
       "  </thead>\n",
       "  <tbody>\n",
       "    <tr>\n",
       "      <th>0</th>\n",
       "      <td>0.00632</td>\n",
       "      <td>18.0</td>\n",
       "      <td>2.31</td>\n",
       "      <td>0.0</td>\n",
       "      <td>0.538</td>\n",
       "      <td>6.575</td>\n",
       "      <td>65.2</td>\n",
       "      <td>4.0900</td>\n",
       "      <td>1.0</td>\n",
       "      <td>296.0</td>\n",
       "      <td>15.3</td>\n",
       "      <td>396.90</td>\n",
       "      <td>4.98</td>\n",
       "    </tr>\n",
       "    <tr>\n",
       "      <th>1</th>\n",
       "      <td>0.02731</td>\n",
       "      <td>0.0</td>\n",
       "      <td>7.07</td>\n",
       "      <td>0.0</td>\n",
       "      <td>0.469</td>\n",
       "      <td>6.421</td>\n",
       "      <td>78.9</td>\n",
       "      <td>4.9671</td>\n",
       "      <td>2.0</td>\n",
       "      <td>242.0</td>\n",
       "      <td>17.8</td>\n",
       "      <td>396.90</td>\n",
       "      <td>9.14</td>\n",
       "    </tr>\n",
       "    <tr>\n",
       "      <th>2</th>\n",
       "      <td>0.02729</td>\n",
       "      <td>0.0</td>\n",
       "      <td>7.07</td>\n",
       "      <td>0.0</td>\n",
       "      <td>0.469</td>\n",
       "      <td>7.185</td>\n",
       "      <td>61.1</td>\n",
       "      <td>4.9671</td>\n",
       "      <td>2.0</td>\n",
       "      <td>242.0</td>\n",
       "      <td>17.8</td>\n",
       "      <td>392.83</td>\n",
       "      <td>4.03</td>\n",
       "    </tr>\n",
       "    <tr>\n",
       "      <th>3</th>\n",
       "      <td>0.03237</td>\n",
       "      <td>0.0</td>\n",
       "      <td>2.18</td>\n",
       "      <td>0.0</td>\n",
       "      <td>0.458</td>\n",
       "      <td>6.998</td>\n",
       "      <td>45.8</td>\n",
       "      <td>6.0622</td>\n",
       "      <td>3.0</td>\n",
       "      <td>222.0</td>\n",
       "      <td>18.7</td>\n",
       "      <td>394.63</td>\n",
       "      <td>2.94</td>\n",
       "    </tr>\n",
       "    <tr>\n",
       "      <th>4</th>\n",
       "      <td>0.06905</td>\n",
       "      <td>0.0</td>\n",
       "      <td>2.18</td>\n",
       "      <td>0.0</td>\n",
       "      <td>0.458</td>\n",
       "      <td>7.147</td>\n",
       "      <td>54.2</td>\n",
       "      <td>6.0622</td>\n",
       "      <td>3.0</td>\n",
       "      <td>222.0</td>\n",
       "      <td>18.7</td>\n",
       "      <td>396.90</td>\n",
       "      <td>5.33</td>\n",
       "    </tr>\n",
       "  </tbody>\n",
       "</table>\n",
       "</div>"
      ],
      "text/plain": [
       "      CRIM    ZN  INDUS  CHAS    NOX     RM   AGE     DIS  RAD    TAX  \\\n",
       "0  0.00632  18.0   2.31   0.0  0.538  6.575  65.2  4.0900  1.0  296.0   \n",
       "1  0.02731   0.0   7.07   0.0  0.469  6.421  78.9  4.9671  2.0  242.0   \n",
       "2  0.02729   0.0   7.07   0.0  0.469  7.185  61.1  4.9671  2.0  242.0   \n",
       "3  0.03237   0.0   2.18   0.0  0.458  6.998  45.8  6.0622  3.0  222.0   \n",
       "4  0.06905   0.0   2.18   0.0  0.458  7.147  54.2  6.0622  3.0  222.0   \n",
       "\n",
       "   PTRATIO       B  LSTAT  \n",
       "0     15.3  396.90   4.98  \n",
       "1     17.8  396.90   9.14  \n",
       "2     17.8  392.83   4.03  \n",
       "3     18.7  394.63   2.94  \n",
       "4     18.7  396.90   5.33  "
      ]
     },
     "execution_count": 15,
     "metadata": {},
     "output_type": "execute_result"
    }
   ],
   "source": [
    "X.head()"
   ]
  },
  {
   "cell_type": "code",
   "execution_count": 16,
   "metadata": {
    "collapsed": false
   },
   "outputs": [
    {
     "data": {
      "text/plain": [
       "LinearRegression(copy_X=True, fit_intercept=True, n_jobs=1, normalize=False)"
      ]
     },
     "execution_count": 16,
     "metadata": {},
     "output_type": "execute_result"
    }
   ],
   "source": [
    "x_mul = X_train.loc[:,['CRIM','LSTAT']].as_matrix()\n",
    "lin_ = LinearRegression()\n",
    "degree_3 = PolynomialFeatures(degree=3)\n",
    "x_mul_3 = degree_3.fit_transform(x_mul)\n",
    "lin_.fit(x_mul_3,Y_train)"
   ]
  },
  {
   "cell_type": "code",
   "execution_count": 17,
   "metadata": {
    "collapsed": false
   },
   "outputs": [
    {
     "name": "stdout",
     "output_type": "stream",
     "text": [
      "三次式における'LSTAT'と'CRIM'の住宅価格への決定係数は0.78\n"
     ]
    }
   ],
   "source": [
    "x_mul_test = X_test.loc[:,['CRIM','LSTAT']].as_matrix()\n",
    "x_mul_test_2 = degree_3.fit_transform(x_mul_test)\n",
    "\n",
    "score = lin_.score(x_mul_test_2,Y_test)\n",
    "print(\"三次式における'LSTAT'と'CRIM'の住宅価格への決定係数は%.2f\"%(score))"
   ]
  },
  {
   "cell_type": "markdown",
   "metadata": {},
   "source": [
    "### ●重回帰について記述せよ"
   ]
  },
  {
   "cell_type": "markdown",
   "metadata": {},
   "source": [
    "A.重回帰は、単回帰が一つなのに対し二つ以上の説明変数で目的変数を予測する。　　  \n",
    "重回帰のメリットとしては説明変数の数を増やし回帰させると単回帰よりも予測精度の高いモデルが出来る可能性が高い。連続型のデータに適している。　\n",
    "デメリットは説明変数をむやみに増やすと過学習してしまい、見せかけだけの予測が向上してしまう恐れがある。離散型のデータには適さない。"
   ]
  }
 ],
 "metadata": {
  "kernelspec": {
   "display_name": "Python 3",
   "language": "python",
   "name": "python3"
  },
  "language_info": {
   "codemirror_mode": {
    "name": "ipython",
    "version": 3
   },
   "file_extension": ".py",
   "mimetype": "text/x-python",
   "name": "python",
   "nbconvert_exporter": "python",
   "pygments_lexer": "ipython3",
   "version": "3.6.0"
  }
 },
 "nbformat": 4,
 "nbformat_minor": 2
}
