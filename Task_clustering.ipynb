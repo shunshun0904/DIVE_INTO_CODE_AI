{
 "cells": [
  {
   "cell_type": "code",
   "execution_count": 1,
   "metadata": {
    "collapsed": false
   },
   "outputs": [],
   "source": [
    "import pandas as pd\n",
    "from sklearn.datasets import make_blobs\n",
    "X, y = make_blobs(n_samples=100, n_features=20, centers=15, cluster_std=2.0, shuffle=True, random_state=0)\n",
    "variables = ['辛さ','重厚','スパイシー','果実味','コク','酸味','落ち着き','香り','華やか','ジューシー','熟成','透明感','シャープ','力強い',\n",
    "             'フレッシュ','渋み','苦味','樽','エキゾチック','粘性']\n",
    "\n",
    "name = list(map(str,[i for i in range(100)]))\n",
    "df = pd.DataFrame(X, columns=variables,index=name)"
   ]
  },
  {
   "cell_type": "code",
   "execution_count": 2,
   "metadata": {
    "collapsed": false
   },
   "outputs": [
    {
     "data": {
      "text/html": [
       "<div>\n",
       "<table border=\"1\" class=\"dataframe\">\n",
       "  <thead>\n",
       "    <tr style=\"text-align: right;\">\n",
       "      <th></th>\n",
       "      <th>辛さ</th>\n",
       "      <th>重厚</th>\n",
       "      <th>スパイシー</th>\n",
       "      <th>果実味</th>\n",
       "      <th>コク</th>\n",
       "      <th>酸味</th>\n",
       "      <th>落ち着き</th>\n",
       "      <th>香り</th>\n",
       "      <th>華やか</th>\n",
       "      <th>ジューシー</th>\n",
       "      <th>熟成</th>\n",
       "      <th>透明感</th>\n",
       "      <th>シャープ</th>\n",
       "      <th>力強い</th>\n",
       "      <th>フレッシュ</th>\n",
       "      <th>渋み</th>\n",
       "      <th>苦味</th>\n",
       "      <th>樽</th>\n",
       "      <th>エキゾチック</th>\n",
       "      <th>粘性</th>\n",
       "    </tr>\n",
       "  </thead>\n",
       "  <tbody>\n",
       "    <tr>\n",
       "      <th>0</th>\n",
       "      <td>-6.867455</td>\n",
       "      <td>-5.634108</td>\n",
       "      <td>-0.881840</td>\n",
       "      <td>-6.482588</td>\n",
       "      <td>-7.159777</td>\n",
       "      <td>-6.394668</td>\n",
       "      <td>2.528458</td>\n",
       "      <td>-9.883541</td>\n",
       "      <td>7.197917</td>\n",
       "      <td>-7.291906</td>\n",
       "      <td>7.651226</td>\n",
       "      <td>1.407066</td>\n",
       "      <td>12.381189</td>\n",
       "      <td>2.889084</td>\n",
       "      <td>3.602466</td>\n",
       "      <td>-6.967406</td>\n",
       "      <td>-2.833069</td>\n",
       "      <td>-5.861254</td>\n",
       "      <td>-5.390123</td>\n",
       "      <td>-13.294555</td>\n",
       "    </tr>\n",
       "    <tr>\n",
       "      <th>1</th>\n",
       "      <td>8.591997</td>\n",
       "      <td>-2.939312</td>\n",
       "      <td>-2.795689</td>\n",
       "      <td>8.441495</td>\n",
       "      <td>8.202073</td>\n",
       "      <td>5.035962</td>\n",
       "      <td>-9.551829</td>\n",
       "      <td>11.863202</td>\n",
       "      <td>1.391670</td>\n",
       "      <td>6.811569</td>\n",
       "      <td>-5.089919</td>\n",
       "      <td>7.814202</td>\n",
       "      <td>-7.849138</td>\n",
       "      <td>0.114050</td>\n",
       "      <td>-2.882001</td>\n",
       "      <td>7.194346</td>\n",
       "      <td>7.214782</td>\n",
       "      <td>2.017785</td>\n",
       "      <td>-0.986718</td>\n",
       "      <td>-7.536471</td>\n",
       "    </tr>\n",
       "    <tr>\n",
       "      <th>2</th>\n",
       "      <td>0.246883</td>\n",
       "      <td>4.617195</td>\n",
       "      <td>3.212311</td>\n",
       "      <td>1.596973</td>\n",
       "      <td>-3.055192</td>\n",
       "      <td>0.042299</td>\n",
       "      <td>1.480808</td>\n",
       "      <td>6.456562</td>\n",
       "      <td>7.968668</td>\n",
       "      <td>-3.373548</td>\n",
       "      <td>2.148362</td>\n",
       "      <td>-0.378050</td>\n",
       "      <td>0.401580</td>\n",
       "      <td>9.752649</td>\n",
       "      <td>-7.182365</td>\n",
       "      <td>-8.249872</td>\n",
       "      <td>-7.731935</td>\n",
       "      <td>7.332327</td>\n",
       "      <td>5.531771</td>\n",
       "      <td>7.722099</td>\n",
       "    </tr>\n",
       "    <tr>\n",
       "      <th>3</th>\n",
       "      <td>5.007082</td>\n",
       "      <td>2.136003</td>\n",
       "      <td>11.041768</td>\n",
       "      <td>2.046806</td>\n",
       "      <td>-2.076545</td>\n",
       "      <td>4.375675</td>\n",
       "      <td>-9.963064</td>\n",
       "      <td>-4.988563</td>\n",
       "      <td>5.988508</td>\n",
       "      <td>-2.123277</td>\n",
       "      <td>2.397892</td>\n",
       "      <td>-2.612181</td>\n",
       "      <td>-11.314279</td>\n",
       "      <td>-2.854946</td>\n",
       "      <td>-0.393441</td>\n",
       "      <td>-2.108009</td>\n",
       "      <td>4.656146</td>\n",
       "      <td>4.359952</td>\n",
       "      <td>0.764049</td>\n",
       "      <td>-3.800434</td>\n",
       "    </tr>\n",
       "    <tr>\n",
       "      <th>4</th>\n",
       "      <td>-4.010045</td>\n",
       "      <td>4.244966</td>\n",
       "      <td>6.905713</td>\n",
       "      <td>-5.643761</td>\n",
       "      <td>6.686582</td>\n",
       "      <td>0.799046</td>\n",
       "      <td>-0.418340</td>\n",
       "      <td>2.750262</td>\n",
       "      <td>0.286303</td>\n",
       "      <td>-1.123998</td>\n",
       "      <td>-2.514172</td>\n",
       "      <td>-6.296712</td>\n",
       "      <td>-8.434826</td>\n",
       "      <td>8.658997</td>\n",
       "      <td>4.817495</td>\n",
       "      <td>-0.434714</td>\n",
       "      <td>-4.773589</td>\n",
       "      <td>-6.092134</td>\n",
       "      <td>-10.631048</td>\n",
       "      <td>-0.215011</td>\n",
       "    </tr>\n",
       "  </tbody>\n",
       "</table>\n",
       "</div>"
      ],
      "text/plain": [
       "         辛さ        重厚      スパイシー       果実味        コク        酸味      落ち着き  \\\n",
       "0 -6.867455 -5.634108  -0.881840 -6.482588 -7.159777 -6.394668  2.528458   \n",
       "1  8.591997 -2.939312  -2.795689  8.441495  8.202073  5.035962 -9.551829   \n",
       "2  0.246883  4.617195   3.212311  1.596973 -3.055192  0.042299  1.480808   \n",
       "3  5.007082  2.136003  11.041768  2.046806 -2.076545  4.375675 -9.963064   \n",
       "4 -4.010045  4.244966   6.905713 -5.643761  6.686582  0.799046 -0.418340   \n",
       "\n",
       "          香り       華やか     ジューシー        熟成       透明感       シャープ       力強い  \\\n",
       "0  -9.883541  7.197917 -7.291906  7.651226  1.407066  12.381189  2.889084   \n",
       "1  11.863202  1.391670  6.811569 -5.089919  7.814202  -7.849138  0.114050   \n",
       "2   6.456562  7.968668 -3.373548  2.148362 -0.378050   0.401580  9.752649   \n",
       "3  -4.988563  5.988508 -2.123277  2.397892 -2.612181 -11.314279 -2.854946   \n",
       "4   2.750262  0.286303 -1.123998 -2.514172 -6.296712  -8.434826  8.658997   \n",
       "\n",
       "      フレッシュ        渋み        苦味         樽     エキゾチック         粘性  \n",
       "0  3.602466 -6.967406 -2.833069 -5.861254  -5.390123 -13.294555  \n",
       "1 -2.882001  7.194346  7.214782  2.017785  -0.986718  -7.536471  \n",
       "2 -7.182365 -8.249872 -7.731935  7.332327   5.531771   7.722099  \n",
       "3 -0.393441 -2.108009  4.656146  4.359952   0.764049  -3.800434  \n",
       "4  4.817495 -0.434714 -4.773589 -6.092134 -10.631048  -0.215011  "
      ]
     },
     "execution_count": 2,
     "metadata": {},
     "output_type": "execute_result"
    }
   ],
   "source": [
    "df.head()"
   ]
  },
  {
   "cell_type": "markdown",
   "metadata": {},
   "source": [
    "name   , "
   ]
  },
  {
   "cell_type": "code",
   "execution_count": 3,
   "metadata": {
    "collapsed": false
   },
   "outputs": [
    {
     "data": {
      "text/plain": [
       "(100, 20)"
      ]
     },
     "execution_count": 3,
     "metadata": {},
     "output_type": "execute_result"
    }
   ],
   "source": [
    "X.shape"
   ]
  },
  {
   "cell_type": "code",
   "execution_count": 4,
   "metadata": {
    "collapsed": false
   },
   "outputs": [
    {
     "data": {
      "text/plain": [
       "(100,)"
      ]
     },
     "execution_count": 4,
     "metadata": {},
     "output_type": "execute_result"
    }
   ],
   "source": [
    "y.shape"
   ]
  },
  {
   "cell_type": "code",
   "execution_count": 5,
   "metadata": {
    "collapsed": false
   },
   "outputs": [
    {
     "name": "stderr",
     "output_type": "stream",
     "text": [
      "ERROR:root:Line magic function `%matplotlib.inline` not found.\n"
     ]
    }
   ],
   "source": [
    "%matplotlib.inline\n",
    "import matplotlib.pyplot as plt"
   ]
  },
  {
   "cell_type": "code",
   "execution_count": 6,
   "metadata": {
    "collapsed": false
   },
   "outputs": [
    {
     "data": {
      "image/png": "[encoded data removed]",
      "text/plain": [
       "<matplotlib.figure.Figure at 0x10cae0eb8>"
      ]
     },
     "metadata": {},
     "output_type": "display_data"
    }
   ],
   "source": [
    "from sklearn.cluster import KMeans\n",
    "\n",
    "SSE = []\n",
    "for i in range(1, 21):\n",
    "    km = KMeans(n_clusters=i, init='random', n_init=10, max_iter=300, tol=1e-04, random_state=0)\n",
    "    km.fit(X)\n",
    "    SSE.append(km.inertia_)\n",
    "\n",
    "plt.plot(range(1,21), SSE, marker='o')\n",
    "plt.xlabel('k')\n",
    "plt.ylabel('SSE')\n",
    "plt.xlim(1,21,1)\n",
    "plt.show()"
   ]
  },
  {
   "cell_type": "code",
   "execution_count": 7,
   "metadata": {
    "collapsed": false,
    "scrolled": false
   },
   "outputs": [
    {
     "data": {
      "image/png": "[encoded data removed]",
      "text/plain": [
       "<matplotlib.figure.Figure at 0x10d7d1080>"
      ]
     },
     "metadata": {},
     "output_type": "display_data"
    },
    {
     "data": {
      "image/png": "[encoded data removed]",
      "text/plain": [
       "<matplotlib.figure.Figure at 0x10d8b59e8>"
      ]
     },
     "metadata": {},
     "output_type": "display_data"
    },
    {
     "data": {
      "image/png": "[encoded data removed]",
      "text/plain": [
       "<matplotlib.figure.Figure at 0x10d2fd400>"
      ]
     },
     "metadata": {},
     "output_type": "display_data"
    },
    {
     "data": {
      "image/png": "[encoded data removed]",
      "text/plain": [
       "<matplotlib.figure.Figure at 0x111678710>"
      ]
     },
     "metadata": {},
     "output_type": "display_data"
    },
    {
     "data": {
      "image/png": "[encoded data removed]",
      "text/plain": [
       "<matplotlib.figure.Figure at 0x11174cd30>"
      ]
     },
     "metadata": {},
     "output_type": "display_data"
    },
    {
     "data": {
      "image/png": "[encoded data removed]",
      "text/plain": [
       "<matplotlib.figure.Figure at 0x111a6e588>"
      ]
     },
     "metadata": {},
     "output_type": "display_data"
    },
    {
     "data": {
      "image/png": "[encoded data removed]",
      "text/plain": [
       "<matplotlib.figure.Figure at 0x1119cef60>"
      ]
     },
     "metadata": {},
     "output_type": "display_data"
    },
    {
     "data": {
      "image/png": "[encoded data removed]",
      "text/plain": [
       "<matplotlib.figure.Figure at 0x111ceaef0>"
      ]
     },
     "metadata": {},
     "output_type": "display_data"
    },
    {
     "data": {
      "image/png": "[encoded data removed]",
      "text/plain": [
       "<matplotlib.figure.Figure at 0x1119d1b00>"
      ]
     },
     "metadata": {},
     "output_type": "display_data"
    },
    {
     "data": {
      "image/png": "[encoded data removed]",
      "text/plain": [
       "<matplotlib.figure.Figure at 0x110bd8908>"
      ]
     },
     "metadata": {},
     "output_type": "display_data"
    },
    {
     "data": {
      "image/png": "[encoded data removed]",
      "text/plain": [
       "<matplotlib.figure.Figure at 0x11165b320>"
      ]
     },
     "metadata": {},
     "output_type": "display_data"
    },
    {
     "data": {
      "image/png": "[encoded data removed]",
      "text/plain": [
       "<matplotlib.figure.Figure at 0x11184fa20>"
      ]
     },
     "metadata": {},
     "output_type": "display_data"
    },
    {
     "data": {
      "image/png": "[encoded data removed]",
      "text/plain": [
       "<matplotlib.figure.Figure at 0x111664400>"
      ]
     },
     "metadata": {},
     "output_type": "display_data"
    }
   ],
   "source": [
    "clusters = [7,8,9,10,11,12,13,14,15,16,17,18,19]\n",
    "\n",
    "for i in clusters:\n",
    "\n",
    "    km = KMeans(n_clusters=i, init='random', n_init=10, max_iter=300, tol=1e-04, random_state=0)\n",
    "    y_km = km.fit_predict(X)\n",
    "    from matplotlib import cm\n",
    "    from sklearn.metrics import silhouette_samples\n",
    "    import numpy as np\n",
    "    cluster_labels = np.unique(y_km)\n",
    "    n_clusters = cluster_labels.shape[0]\n",
    "    silhouette_vals = silhouette_samples(X, y_km, metric='euclidean')\n",
    "    y_ax_lower, y_ax_upper = 0, 0\n",
    "    yticks = []\n",
    "    for i, c in enumerate(cluster_labels):\n",
    "        c_silhouette_vals = silhouette_vals[y_km == c]\n",
    "        c_silhouette_vals.sort()\n",
    "        y_ax_upper += len(c_silhouette_vals)\n",
    "        color = cm.jet(i / n_clusters)\n",
    "        plt.barh(range(y_ax_lower, y_ax_upper), c_silhouette_vals, height=1.0, edgecolor='none', color=color)\n",
    "        yticks.append((y_ax_lower + y_ax_upper) / 2)\n",
    "        y_ax_lower += len(c_silhouette_vals)\n",
    "\n",
    "    silhouette_avg = np.mean(silhouette_vals)\n",
    "    plt.axvline(silhouette_avg, color=\"red\", linestyle=\"--\")\n",
    "    plt.yticks(yticks, cluster_labels + 1)\n",
    "    plt.title(i)\n",
    "    plt.ylabel('Cluster')\n",
    "    plt.xlabel('Silhouette coefficient')\n",
    "    plt.show()"
   ]
  },
  {
   "cell_type": "code",
   "execution_count": 14,
   "metadata": {
    "collapsed": false
   },
   "outputs": [
    {
     "data": {
      "text/html": [
       "<div>\n",
       "<table border=\"1\" class=\"dataframe\">\n",
       "  <thead>\n",
       "    <tr style=\"text-align: right;\">\n",
       "      <th></th>\n",
       "      <th>辛さ</th>\n",
       "      <th>重厚</th>\n",
       "      <th>スパイシー</th>\n",
       "      <th>果実味</th>\n",
       "      <th>コク</th>\n",
       "      <th>酸味</th>\n",
       "      <th>落ち着き</th>\n",
       "      <th>香り</th>\n",
       "      <th>華やか</th>\n",
       "      <th>ジューシー</th>\n",
       "      <th>熟成</th>\n",
       "      <th>透明感</th>\n",
       "      <th>シャープ</th>\n",
       "      <th>力強い</th>\n",
       "      <th>フレッシュ</th>\n",
       "      <th>渋み</th>\n",
       "      <th>苦味</th>\n",
       "      <th>樽</th>\n",
       "      <th>エキゾチック</th>\n",
       "      <th>粘性</th>\n",
       "    </tr>\n",
       "  </thead>\n",
       "  <tbody>\n",
       "    <tr>\n",
       "      <th>0</th>\n",
       "      <td>-6.867455</td>\n",
       "      <td>-5.634108</td>\n",
       "      <td>-0.881840</td>\n",
       "      <td>-6.482588</td>\n",
       "      <td>-7.159777</td>\n",
       "      <td>-6.394668</td>\n",
       "      <td>2.528458</td>\n",
       "      <td>-9.883541</td>\n",
       "      <td>7.197917</td>\n",
       "      <td>-7.291906</td>\n",
       "      <td>7.651226</td>\n",
       "      <td>1.407066</td>\n",
       "      <td>12.381189</td>\n",
       "      <td>2.889084</td>\n",
       "      <td>3.602466</td>\n",
       "      <td>-6.967406</td>\n",
       "      <td>-2.833069</td>\n",
       "      <td>-5.861254</td>\n",
       "      <td>-5.390123</td>\n",
       "      <td>-13.294555</td>\n",
       "    </tr>\n",
       "    <tr>\n",
       "      <th>1</th>\n",
       "      <td>8.591997</td>\n",
       "      <td>-2.939312</td>\n",
       "      <td>-2.795689</td>\n",
       "      <td>8.441495</td>\n",
       "      <td>8.202073</td>\n",
       "      <td>5.035962</td>\n",
       "      <td>-9.551829</td>\n",
       "      <td>11.863202</td>\n",
       "      <td>1.391670</td>\n",
       "      <td>6.811569</td>\n",
       "      <td>-5.089919</td>\n",
       "      <td>7.814202</td>\n",
       "      <td>-7.849138</td>\n",
       "      <td>0.114050</td>\n",
       "      <td>-2.882001</td>\n",
       "      <td>7.194346</td>\n",
       "      <td>7.214782</td>\n",
       "      <td>2.017785</td>\n",
       "      <td>-0.986718</td>\n",
       "      <td>-7.536471</td>\n",
       "    </tr>\n",
       "    <tr>\n",
       "      <th>2</th>\n",
       "      <td>0.246883</td>\n",
       "      <td>4.617195</td>\n",
       "      <td>3.212311</td>\n",
       "      <td>1.596973</td>\n",
       "      <td>-3.055192</td>\n",
       "      <td>0.042299</td>\n",
       "      <td>1.480808</td>\n",
       "      <td>6.456562</td>\n",
       "      <td>7.968668</td>\n",
       "      <td>-3.373548</td>\n",
       "      <td>2.148362</td>\n",
       "      <td>-0.378050</td>\n",
       "      <td>0.401580</td>\n",
       "      <td>9.752649</td>\n",
       "      <td>-7.182365</td>\n",
       "      <td>-8.249872</td>\n",
       "      <td>-7.731935</td>\n",
       "      <td>7.332327</td>\n",
       "      <td>5.531771</td>\n",
       "      <td>7.722099</td>\n",
       "    </tr>\n",
       "    <tr>\n",
       "      <th>3</th>\n",
       "      <td>5.007082</td>\n",
       "      <td>2.136003</td>\n",
       "      <td>11.041768</td>\n",
       "      <td>2.046806</td>\n",
       "      <td>-2.076545</td>\n",
       "      <td>4.375675</td>\n",
       "      <td>-9.963064</td>\n",
       "      <td>-4.988563</td>\n",
       "      <td>5.988508</td>\n",
       "      <td>-2.123277</td>\n",
       "      <td>2.397892</td>\n",
       "      <td>-2.612181</td>\n",
       "      <td>-11.314279</td>\n",
       "      <td>-2.854946</td>\n",
       "      <td>-0.393441</td>\n",
       "      <td>-2.108009</td>\n",
       "      <td>4.656146</td>\n",
       "      <td>4.359952</td>\n",
       "      <td>0.764049</td>\n",
       "      <td>-3.800434</td>\n",
       "    </tr>\n",
       "    <tr>\n",
       "      <th>4</th>\n",
       "      <td>-4.010045</td>\n",
       "      <td>4.244966</td>\n",
       "      <td>6.905713</td>\n",
       "      <td>-5.643761</td>\n",
       "      <td>6.686582</td>\n",
       "      <td>0.799046</td>\n",
       "      <td>-0.418340</td>\n",
       "      <td>2.750262</td>\n",
       "      <td>0.286303</td>\n",
       "      <td>-1.123998</td>\n",
       "      <td>-2.514172</td>\n",
       "      <td>-6.296712</td>\n",
       "      <td>-8.434826</td>\n",
       "      <td>8.658997</td>\n",
       "      <td>4.817495</td>\n",
       "      <td>-0.434714</td>\n",
       "      <td>-4.773589</td>\n",
       "      <td>-6.092134</td>\n",
       "      <td>-10.631048</td>\n",
       "      <td>-0.215011</td>\n",
       "    </tr>\n",
       "  </tbody>\n",
       "</table>\n",
       "</div>"
      ],
      "text/plain": [
       "         辛さ        重厚      スパイシー       果実味        コク        酸味      落ち着き  \\\n",
       "0 -6.867455 -5.634108  -0.881840 -6.482588 -7.159777 -6.394668  2.528458   \n",
       "1  8.591997 -2.939312  -2.795689  8.441495  8.202073  5.035962 -9.551829   \n",
       "2  0.246883  4.617195   3.212311  1.596973 -3.055192  0.042299  1.480808   \n",
       "3  5.007082  2.136003  11.041768  2.046806 -2.076545  4.375675 -9.963064   \n",
       "4 -4.010045  4.244966   6.905713 -5.643761  6.686582  0.799046 -0.418340   \n",
       "\n",
       "          香り       華やか     ジューシー        熟成       透明感       シャープ       力強い  \\\n",
       "0  -9.883541  7.197917 -7.291906  7.651226  1.407066  12.381189  2.889084   \n",
       "1  11.863202  1.391670  6.811569 -5.089919  7.814202  -7.849138  0.114050   \n",
       "2   6.456562  7.968668 -3.373548  2.148362 -0.378050   0.401580  9.752649   \n",
       "3  -4.988563  5.988508 -2.123277  2.397892 -2.612181 -11.314279 -2.854946   \n",
       "4   2.750262  0.286303 -1.123998 -2.514172 -6.296712  -8.434826  8.658997   \n",
       "\n",
       "      フレッシュ        渋み        苦味         樽     エキゾチック         粘性  \n",
       "0  3.602466 -6.967406 -2.833069 -5.861254  -5.390123 -13.294555  \n",
       "1 -2.882001  7.194346  7.214782  2.017785  -0.986718  -7.536471  \n",
       "2 -7.182365 -8.249872 -7.731935  7.332327   5.531771   7.722099  \n",
       "3 -0.393441 -2.108009  4.656146  4.359952   0.764049  -3.800434  \n",
       "4  4.817495 -0.434714 -4.773589 -6.092134 -10.631048  -0.215011  "
      ]
     },
     "execution_count": 14,
     "metadata": {},
     "output_type": "execute_result"
    }
   ],
   "source": [
    "df.head()"
   ]
  },
  {
   "cell_type": "markdown",
   "metadata": {},
   "source": [
    "### サンプル間の距離を求める"
   ]
  },
  {
   "cell_type": "code",
   "execution_count": 9,
   "metadata": {
    "collapsed": false
   },
   "outputs": [
    {
     "name": "stdout",
     "output_type": "stream",
     "text": [
      "            0          1          2          3          4          5  \\\n",
      "0    0.000000  52.624242  41.002106  41.625637  39.249034  47.701933   \n",
      "1   52.624242   0.000000  41.518133  32.704102  38.814321  30.022858   \n",
      "2   41.002106  41.518133   0.000000  32.868977  33.399859  27.233159   \n",
      "3   41.625637  32.704102  32.868977   0.000000  31.392470  33.169500   \n",
      "4   39.249034  38.814321  33.399859  31.392470   0.000000  43.270015   \n",
      "5   47.701933  30.022858  27.233159  33.169500  43.270015   0.000000   \n",
      "6   32.179620  42.322500  42.507352  33.098625  34.126482  41.115787   \n",
      "7   49.747503  34.028919  41.581994  42.137292  42.763238  35.980141   \n",
      "8   49.666381  36.617068  41.808531  25.761110  39.462839  43.620806   \n",
      "9   35.879622  43.626511  39.744987  38.883694  40.779959  39.486565   \n",
      "10  50.838865  31.601004  26.357573  32.980938  41.791916  10.787777   \n",
      "11  47.315310  33.713137  39.040665  34.561621  44.266361  30.931352   \n",
      "12  47.588165  31.706927  25.667231  32.767814  41.475880  12.238620   \n",
      "13  38.312823  33.444859  33.092614  10.048173  32.971948  32.057792   \n",
      "14  42.165948  47.267305  34.784702  41.508841  40.411730  35.583833   \n",
      "15  37.728248  35.201270  38.814491  35.580483  36.279052  35.059158   \n",
      "16  44.636588  30.167382  28.395801  32.315968  42.616379  12.427926   \n",
      "17  40.452931  39.382046  32.885619  31.386137  37.693573  34.063298   \n",
      "18  29.574616  44.474972  40.949313  35.486838  37.359890  42.039756   \n",
      "19  39.868568  48.484012  35.809700  42.372997  41.157872  37.214947   \n",
      "20  39.003011  46.138156  32.277886  39.541431  40.993689  33.557431   \n",
      "21  50.824078  10.710513  41.145562  32.188306  37.742135  31.267360   \n",
      "22  40.376339  31.740730  32.720371  13.948924  33.883227  29.275582   \n",
      "23  48.127147  40.710245  43.019619  27.053769  37.912056  46.595289   \n",
      "24  53.512161  35.352672  41.040626  42.300463  45.488626  37.259895   \n",
      "25  40.265245  41.116752  10.391105  32.279444  33.696247  29.438875   \n",
      "26  52.021071  12.647899  39.152977  33.227710  39.535314  28.344846   \n",
      "27  37.555504  46.309139  33.454964  39.416946  38.276331  34.825655   \n",
      "28  50.395951  29.339627  28.584535  31.617573  42.387540  12.418595   \n",
      "29  36.624585  32.372568  29.813979  11.825013  31.664281  26.413525   \n",
      "..        ...        ...        ...        ...        ...        ...   \n",
      "70  45.283542  32.529668  36.338359  31.485405  40.125742  28.636132   \n",
      "71  46.033277  38.340705  40.611540  36.030609  46.340850  33.321591   \n",
      "72  16.755455  52.140353  35.380799  38.149530  37.128778  44.667995   \n",
      "73  50.219467  37.448883  37.448469  40.957950  41.828644  36.132148   \n",
      "74  29.255276  42.726074  37.080863  32.390676  36.263052  36.324300   \n",
      "75  37.764404  41.216062  31.402623  31.112924  12.051447  44.662031   \n",
      "76  40.263775  39.426149  33.802971  29.331662  34.998509  36.054821   \n",
      "77  41.653253  50.518323  34.496695  42.455559  40.553918  37.741273   \n",
      "78  14.831959  57.529573  40.315495  40.988863  39.738419  50.817522   \n",
      "79  38.605083  32.323099  32.075268  11.294835  29.048436  32.686678   \n",
      "80  47.401108  39.355083  40.604492  28.498277  40.138940  43.472655   \n",
      "81  15.393124  54.423528  40.178903  39.074214  35.494091  48.760737   \n",
      "82  39.562629  51.836558  28.497053  38.813112  37.485192  37.977354   \n",
      "83  45.725127  38.476227  39.026244  26.131570  38.338746  42.181889   \n",
      "84  45.397583  35.135805  38.618398  35.721052  43.442409  28.707591   \n",
      "85  42.590017  42.208592   9.418420  35.053649  36.112952  28.727679   \n",
      "86  44.029783  42.495582  10.767882  34.743568  33.781197  31.146710   \n",
      "87  44.306345  38.291928  34.566921  33.352107  37.833082  34.876401   \n",
      "88  37.208915  37.939086  38.121416  37.732593  37.204496  35.779048   \n",
      "89  36.358817  38.198026  41.653588  37.087572  37.946370  40.464044   \n",
      "90  39.971755  42.839134  36.407685  32.165894  38.691776  38.121180   \n",
      "91  40.101113  33.993358  32.282881  13.410504  33.022617  32.375596   \n",
      "92  36.302668  41.955066  38.455123  38.109023  40.542457  36.292538   \n",
      "93  46.123429  29.827856  25.083459  31.304615  38.589212  10.667068   \n",
      "94  34.316881  44.196886  37.596550  38.924134  38.451755  39.649618   \n",
      "95  41.552686  44.767414  35.877068  34.846774  38.684309  40.013841   \n",
      "96  36.526345  40.557779  34.215529  35.414275  13.742664  43.603235   \n",
      "97  42.388381  50.877129  29.422092  41.043790  39.562581  37.752450   \n",
      "98  49.614646  34.587267  39.936018  41.581587  44.263847  35.558562   \n",
      "99  31.878080  40.386819  33.606443  34.986789  35.345464  33.769080   \n",
      "\n",
      "            6          7          8          9    ...             90  \\\n",
      "0   32.179620  49.747503  49.666381  35.879622    ...      39.971755   \n",
      "1   42.322500  34.028919  36.617068  43.626511    ...      42.839134   \n",
      "2   42.507352  41.581994  41.808531  39.744987    ...      36.407685   \n",
      "3   33.098625  42.137292  25.761110  38.883694    ...      32.165894   \n",
      "4   34.126482  42.763238  39.462839  40.779959    ...      38.691776   \n",
      "5   41.115787  35.980141  43.620806  39.486565    ...      38.121180   \n",
      "6    0.000000  47.315453  41.475269  30.335454    ...      36.941691   \n",
      "7   47.315453   0.000000  50.200265  44.776723    ...      44.674537   \n",
      "8   41.475269  50.200265   0.000000  46.264569    ...      38.462987   \n",
      "9   30.335454  44.776723  46.264569   0.000000    ...      49.320351   \n",
      "10  42.391551  37.129623  43.512905  43.857336    ...      34.853600   \n",
      "11  37.957501  34.934404  42.633609  33.369021    ...      40.574168   \n",
      "12  43.308316  37.957101  43.491271  42.122954    ...      37.226476   \n",
      "13  31.894787  39.598104  28.927949  38.701487    ...      33.516597   \n",
      "14  40.425574  41.798839  53.454444  48.459458    ...      31.870370   \n",
      "15  35.206715  37.990113  44.788826  36.652339    ...      35.200608   \n",
      "16  42.417515  35.497527  42.297220  42.404856    ...      34.584831   \n",
      "17  35.621065  43.866799  36.891765  46.534625    ...       9.131112   \n",
      "18  15.428292  44.448642  42.919510  32.184867    ...      37.630385   \n",
      "19  38.751927  46.239652  54.422669  48.593794    ...      32.514976   \n",
      "20  38.191029  41.917459  51.507691  44.926849    ...      33.539755   \n",
      "21  39.452534  38.346854  38.239609  43.720296    ...      40.278490   \n",
      "22  30.905365  39.980466  28.803230  36.565835    ...      33.815852   \n",
      "23  39.594310  51.270652  11.754915  45.469908    ...      39.841033   \n",
      "24  50.699417  16.545285  50.570039  47.674061    ...      47.865940   \n",
      "25  40.224649  41.250915  40.555190  41.371420    ...      36.128604   \n",
      "26  41.692355  39.097065  38.893558  41.821069    ...      41.776884   \n",
      "27  36.248185  40.354775  52.058259  45.379891    ...      31.338086   \n",
      "28  44.749145  39.917028  42.502862  45.189848    ...      36.427854   \n",
      "29  27.152201  39.175896  29.615926  33.244334    ...      31.543995   \n",
      "..        ...        ...        ...        ...    ...            ...   \n",
      "70  34.727446  35.447294  41.286876  33.871654    ...      38.417908   \n",
      "71  37.107897  38.551413  44.889580  35.045464    ...      41.574453   \n",
      "72  29.898560  47.741410  45.972970  32.981648    ...      37.479593   \n",
      "73  46.128458  15.832047  50.396294  43.003901    ...      47.490838   \n",
      "74  15.874781  43.669349  40.647754  31.139524    ...      30.640946   \n",
      "75  35.119217  41.936826  37.233951  39.393974    ...      38.019997   \n",
      "76  33.704473  42.555570  36.426447  45.239552    ...      11.932229   \n",
      "77  39.516663  45.754319  56.299195  48.982327    ...      33.318093   \n",
      "78  34.061023  53.761348  49.418551  41.663626    ...      39.296761   \n",
      "79  33.727747  40.838488  26.617151  36.233736    ...      33.487325   \n",
      "80  40.676520  49.853809  11.493389  44.062758    ...      38.947618   \n",
      "81  31.158881  50.857860  47.311062  37.133318    ...      41.374129   \n",
      "82  35.233415  48.852569  45.390491  36.538051    ...      36.073448   \n",
      "83  37.644669  49.518974  12.931994  39.676535    ...      38.624669   \n",
      "84  36.054918  35.616730  42.325200  34.575360    ...      40.178364   \n",
      "85  44.725233  42.135350  44.262094  43.923323    ...      35.613560   \n",
      "86  44.536720  45.133986  42.982781  43.908421    ...      37.096163   \n",
      "87  39.904564  43.914369  38.364542  49.159172    ...      12.905789   \n",
      "88  31.627629  40.560564  48.558264  35.289004    ...      33.754912   \n",
      "89  35.233299  42.432832  44.915785  37.620585    ...      35.137126   \n",
      "90  36.941691  44.674537  38.462987  49.320351    ...       0.000000   \n",
      "91  32.556851  41.930425  27.239742  37.504156    ...      31.905808   \n",
      "92  32.718010  42.554911  46.713624  11.241990    ...      48.837373   \n",
      "93  40.231917  37.795990  42.080433  41.806482    ...      35.005138   \n",
      "94  30.698921  44.990488  46.022622   8.991077    ...      48.321820   \n",
      "95  34.999714  48.153018  39.224552  47.843221    ...      14.713811   \n",
      "96  34.579761  40.814033  40.571984  41.543450    ...      36.739077   \n",
      "97  36.420542  49.077180  49.097994  36.609648    ...      36.801909   \n",
      "98  45.617204  15.429373  49.552647  43.480481    ...      43.975746   \n",
      "99  27.502283  38.515186  43.555803  12.954084    ...      42.871155   \n",
      "\n",
      "           91         92         93         94         95         96  \\\n",
      "0   40.101113  36.302668  46.123429  34.316881  41.552686  36.526345   \n",
      "1   33.993358  41.955066  29.827856  44.196886  44.767414  40.557779   \n",
      "2   32.282881  38.455123  25.083459  37.596550  35.877068  34.215529   \n",
      "3   13.410504  38.109023  31.304615  38.924134  34.846774  35.414275   \n",
      "4   33.022617  40.542457  38.589212  38.451755  38.684309  13.742664   \n",
      "5   32.375596  36.292538  10.667068  39.649618  40.013841  43.603235   \n",
      "6   32.556851  32.718010  40.231917  30.698921  34.999714  34.579761   \n",
      "7   41.930425  42.554911  37.795990  44.990488  48.153018  40.814033   \n",
      "8   27.239742  46.713624  42.080433  46.022622  39.224552  40.571984   \n",
      "9   37.504156  11.241990  41.806482   8.991077  47.843221  41.543450   \n",
      "10  32.174653  40.900884  12.244314  43.722167  35.627158  41.616421   \n",
      "11  30.799682  34.160834  36.036288  33.944562  39.459149  46.249533   \n",
      "12  30.294415  38.025342  10.915744  42.572212  37.627838  40.781697   \n",
      "13  11.597240  37.867115  30.673995  38.604172  35.245797  35.303417   \n",
      "14  38.058420  45.727112  32.682224  45.538914  33.941817  40.936005   \n",
      "15  36.004902  33.951120  32.998028  34.256406  38.611337  35.284073   \n",
      "16  30.365892  37.462846  10.955395  42.446244  37.218245  41.183270   \n",
      "17  29.113481  46.522652  31.224564  45.233938  11.082667  35.885950   \n",
      "18  34.829916  32.947920  40.441302  33.064519  36.726954  35.894550   \n",
      "19  40.182771  45.805878  34.002498  45.530392  34.959761  42.792650   \n",
      "20  36.122291  41.430890  30.967840  42.815417  34.309964  41.667437   \n",
      "21  33.715068  42.400791  29.712266  44.469891  41.394151  40.510231   \n",
      "22  10.518580  35.312895  28.575153  36.365376  34.544453  37.276712   \n",
      "23  27.936407  45.564066  44.703367  44.681946  40.336329  38.784193   \n",
      "24  43.269141  46.030944  38.487163  48.191807  51.764930  46.561047   \n",
      "25  32.118721  40.589250  26.888738  39.558977  35.089917  34.259671   \n",
      "26  35.079371  40.507611  27.763872  43.413957  42.570738  41.479192   \n",
      "27  38.065148  42.815354  32.125228  42.306411  34.901818  38.611929   \n",
      "28  31.531358  41.873689  12.593083  45.129417  38.826083  42.148348   \n",
      "29  13.519409  32.085483  25.474158  33.177763  33.578757  34.049943   \n",
      "..        ...        ...        ...        ...        ...        ...   \n",
      "70  27.411302  33.608551  32.698460  33.223921  36.932643  42.612113   \n",
      "71  31.477883  35.485823  38.390241  34.465191  39.763509  48.126077   \n",
      "72  36.013120  36.025952  44.133586  30.764511  36.678594  35.944726   \n",
      "73  40.097752  41.292528  37.117979  43.115348  49.382991  41.383155   \n",
      "74  33.257326  30.908794  35.207587  31.873230  32.466232  34.753101   \n",
      "75  31.372835  39.801536  40.500426  37.364766  36.292876  12.502642   \n",
      "76  29.148306  44.184744  32.723901  44.954422  14.600788  32.304425   \n",
      "77  40.304054  47.001238  34.883722  46.463558  34.528248  42.286334   \n",
      "78  40.162694  43.805522  49.395275  39.068385  40.552921  37.298128   \n",
      "79  11.273932  35.972679  31.249035  35.419502  35.168665  32.627888   \n",
      "80  29.371518  44.006926  41.958802  43.385581  40.336308  40.620967   \n",
      "81  37.475878  38.999415  47.446019  34.593979  41.847016  34.140445   \n",
      "82  36.042045  35.989908  37.350248  33.364984  34.249277  37.716484   \n",
      "83  26.523622  40.084919  40.905652  38.957281  38.974174  38.904984   \n",
      "84  31.673581  34.225238  33.744090  33.840092  39.137525  44.568927   \n",
      "85  33.230101  41.945322  25.119973  41.886635  35.170359  37.355657   \n",
      "86  35.343515  42.663633  27.207549  41.587276  36.937414  34.929465   \n",
      "87  30.512654  48.300788  31.243177  47.903736  14.764689  36.296723   \n",
      "88  37.911867  34.024347  34.091477  33.433322  35.240786  37.363977   \n",
      "89  37.871304  36.588152  38.503005  35.210355  38.430860  36.699213   \n",
      "90  31.905808  48.837373  35.005138  48.321820  14.713811  36.739077   \n",
      "91   0.000000  36.708321  30.519982  37.291309  30.686769  35.564037   \n",
      "92  36.708321   0.000000  37.497918  14.840881  48.597953  41.106899   \n",
      "93  30.519982  37.497918   0.000000  41.746327  37.118167  39.100368   \n",
      "94  37.291309  14.840881  41.746327   0.000000  47.007285  39.328266   \n",
      "95  30.686769  48.597953  37.118167  47.007285   0.000000  36.351272   \n",
      "96  35.564037  41.106899  39.100368  39.328266  36.351272   0.000000   \n",
      "97  38.102287  35.707314  36.756123  34.103848  33.780089  40.240732   \n",
      "98  42.174561  42.513189  37.252915  43.391165  47.977837  44.253761   \n",
      "99  33.120979  12.714137  35.283107  12.814662  42.050546  35.292738   \n",
      "\n",
      "           97         98         99  \n",
      "0   42.388381  49.614646  31.878080  \n",
      "1   50.877129  34.587267  40.386819  \n",
      "2   29.422092  39.936018  33.606443  \n",
      "3   41.043790  41.581587  34.986789  \n",
      "4   39.562581  44.263847  35.345464  \n",
      "5   37.752450  35.558562  33.769080  \n",
      "6   36.420542  45.617204  27.502283  \n",
      "7   49.077180  15.429373  38.515186  \n",
      "8   49.097994  49.552647  43.555803  \n",
      "9   36.609648  43.480481  12.954084  \n",
      "10  36.630047  38.209140  37.586418  \n",
      "11  37.014998  35.895941  30.142921  \n",
      "12  38.862647  40.039158  35.758688  \n",
      "13  41.755485  39.681851  34.559206  \n",
      "14  27.954843  40.119304  41.727428  \n",
      "15  38.642911  36.867751  29.987566  \n",
      "16  39.143812  37.388772  35.427593  \n",
      "17  34.799840  42.759601  40.157526  \n",
      "18  39.292191  41.846963  28.055382  \n",
      "19  29.764442  43.856345  41.082472  \n",
      "20  27.071071  41.122698  38.678679  \n",
      "21  48.974449  37.633142  41.110703  \n",
      "22  36.752653  39.570731  32.968578  \n",
      "23  46.972961  50.963733  42.371341  \n",
      "24  50.552997  10.586697  42.987707  \n",
      "25  33.591244  38.871433  34.775714  \n",
      "26  47.622883  38.828671  39.831029  \n",
      "27  29.313623  38.106165  38.751020  \n",
      "28  40.978019  41.165755  39.358589  \n",
      "29  35.874266  38.403235  28.386519  \n",
      "..        ...        ...        ...  \n",
      "70  34.581925  37.263944  28.188660  \n",
      "71  36.259477  40.060558  30.241786  \n",
      "72  38.785295  46.243929  28.502968  \n",
      "73  45.834138  14.191177  37.621870  \n",
      "74  32.839625  41.831334  26.532660  \n",
      "75  37.940696  43.928541  34.579536  \n",
      "76  32.914354  43.624791  39.235895  \n",
      "77  28.279766  43.688936  42.309188  \n",
      "78  42.819471  52.616985  37.124959  \n",
      "79  40.469107  41.255034  32.774881  \n",
      "80  46.403655  48.545293  42.034441  \n",
      "81  41.988572  50.748588  31.601414  \n",
      "82  11.692745  47.738189  31.392888  \n",
      "83  44.029134  48.081711  37.697205  \n",
      "84  37.457008  38.043545  27.685589  \n",
      "85  31.476141  39.291153  36.902112  \n",
      "86  33.568783  42.465548  38.396763  \n",
      "87  36.689143  43.993377  43.205743  \n",
      "88  35.382472  38.140225  29.713391  \n",
      "89  41.089245  40.208410  32.756692  \n",
      "90  36.801909  43.975746  42.871155  \n",
      "91  38.102287  42.174561  33.120979  \n",
      "92  35.707314  42.513189  12.714137  \n",
      "93  36.756123  37.252915  35.283107  \n",
      "94  34.103848  43.391165  12.814662  \n",
      "95  33.780089  47.977837  42.050546  \n",
      "96  40.240732  44.253761  35.292738  \n",
      "97   0.000000  46.983705  32.155609  \n",
      "98  46.983705   0.000000  38.439670  \n",
      "99  32.155609  38.439670   0.000000  \n",
      "\n",
      "[100 rows x 100 columns]\n"
     ]
    }
   ],
   "source": [
    "from scipy.spatial.distance import pdist, squareform\n",
    "row_dist = pd.DataFrame(squareform(pdist(df, metric='euclidean')),columns=name, index=name)\n",
    "print(row_dist)"
   ]
  },
  {
   "cell_type": "code",
   "execution_count": 10,
   "metadata": {
    "collapsed": false
   },
   "outputs": [
    {
     "data": {
      "image/png": "[encoded data removed]",
      "text/plain": [
       "<matplotlib.figure.Figure at 0x111776f28>"
      ]
     },
     "metadata": {},
     "output_type": "display_data"
    }
   ],
   "source": [
    "from scipy.spatial.distance import pdist, squareform\n",
    "from scipy.cluster.hierarchy import linkage\n",
    "from scipy.cluster.hierarchy import dendrogram\n",
    "row_clusters = linkage(pdist(df, metric='euclidean'), method='complete')\n",
    "row_dender = dendrogram(row_clusters, labels=name)\n",
    "plt.show()"
   ]
  },
  {
   "cell_type": "markdown",
   "metadata": {},
   "source": [
    "### エルボー法とシルエット分析と樹状図（dendrogram）を駆使して得られた結果によると15種類のワインを置くのが良いかと思われる。   \n",
    "__その理由としては樹状図を書いた時に縦軸２０の手前で図を切ると１５のまとまりに分けられているからであり、ホールド法で言えば１５でほぼ横ばいになっているしまた、シルエット法で言えば１５の図がクラスタの形と'Silhouette coefficient'の値から全体的にバランスの取れた分け方であると言えるので。__  \n",
    "____"
   ]
  },
  {
   "cell_type": "code",
   "execution_count": 11,
   "metadata": {
    "collapsed": true
   },
   "outputs": [],
   "source": [
    "from sklearn.cluster import KMeans\n",
    "\n",
    "km = KMeans(n_clusters=7,init='k-means++',n_init=10,max_iter=300,random_state=0)\n",
    "y_km = km.fit_predict(X)"
   ]
  },
  {
   "cell_type": "code",
   "execution_count": 12,
   "metadata": {
    "collapsed": false
   },
   "outputs": [
    {
     "data": {
      "text/plain": [
       "array([0, 2, 4, 5, 4, 3, 0, 2, 5, 0, 3, 3, 3, 5, 6, 1, 3, 1, 0, 6, 6, 2, 5,\n",
       "       5, 2, 4, 2, 6, 3, 5, 4, 5, 3, 5, 0, 1, 0, 4, 0, 2, 2, 6, 0, 0, 0, 6,\n",
       "       2, 4, 0, 6, 4, 1, 5, 6, 0, 0, 3, 6, 2, 2, 4, 1, 3, 1, 4, 1, 2, 5, 4,\n",
       "       3, 3, 3, 0, 2, 0, 4, 1, 6, 0, 5, 5, 0, 6, 5, 3, 4, 4, 1, 1, 1, 1, 5,\n",
       "       0, 3, 0, 1, 4, 6, 2, 0], dtype=int32)"
      ]
     },
     "execution_count": 12,
     "metadata": {},
     "output_type": "execute_result"
    }
   ],
   "source": [
    "y_km"
   ]
  },
  {
   "cell_type": "code",
   "execution_count": 13,
   "metadata": {
    "collapsed": false
   },
   "outputs": [
    {
     "data": {
      "text/plain": [
       "array([ 3,  7,  0,  6,  9,  1,  2, 13,  8, 12,  1,  5,  1,  6, 10,  4,  1,\n",
       "       11,  2, 10, 10,  7,  6,  8, 13,  0,  7, 10,  1,  6,  0,  8,  5,  6,\n",
       "        3,  4,  2,  0, 12,  7, 13, 14,  3,  3, 12, 14,  7,  9,  2, 10,  0,\n",
       "        4,  8, 14,  2,  2,  1, 14,  7, 13,  9, 11,  5,  4,  9,  4,  7,  8,\n",
       "        9,  5,  5,  5,  3, 13,  2,  9, 11, 10,  3,  6,  8,  3, 14,  8,  5,\n",
       "        0,  0, 11,  4,  4, 11,  6, 12,  1, 12, 11,  9, 14, 13, 12])"
      ]
     },
     "execution_count": 13,
     "metadata": {},
     "output_type": "execute_result"
    }
   ],
   "source": [
    "y"
   ]
  },
  {
   "cell_type": "code",
   "execution_count": null,
   "metadata": {
    "collapsed": true
   },
   "outputs": [],
   "source": []
  }
 ],
 "metadata": {
  "kernelspec": {
   "display_name": "Python 3",
   "language": "python",
   "name": "python3"
  },
  "language_info": {
   "codemirror_mode": {
    "name": "ipython",
    "version": 3
   },
   "file_extension": ".py",
   "mimetype": "text/x-python",
   "name": "python",
   "nbconvert_exporter": "python",
   "pygments_lexer": "ipython3",
   "version": "3.6.0"
  }
 },
 "nbformat": 4,
 "nbformat_minor": 2
}
